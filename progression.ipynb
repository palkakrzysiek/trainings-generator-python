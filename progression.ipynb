{
 "nbformat": 4,
 "nbformat_minor": 0,
 "metadata": {
  "colab": {
   "name": "Untitled1.ipynb",
   "provenance": [],
   "authorship_tag": "ABX9TyN5zFkWUezIuqnA/TzRg2WD",
   "include_colab_link": true
  },
  "kernelspec": {
   "name": "python3",
   "language": "python",
   "display_name": "Python 3 (ipykernel)"
  },
  "language_info": {
   "name": "python"
  }
 },
 "cells": [
  {
   "cell_type": "markdown",
   "metadata": {
    "id": "view-in-github",
    "colab_type": "text"
   },
   "source": [
    "<a href=\"https://colab.research.google.com/github/palkakrzysiek/trainings-generator-python/blob/main/progression.ipynb\" target=\"_parent\"><img src=\"https://colab.research.google.com/assets/colab-badge.svg\" alt=\"Open In Colab\"/></a>"
   ]
  },
  {
   "cell_type": "markdown",
   "source": [
    "Plugin to upload/download workouts\n",
    "https://chrome.google.com/webstore/detail/share-your-garmin-connect/kdpolhnlnkengkmfncjdbfdehglepmff"
   ],
   "metadata": {
    "collapsed": false,
    "pycharm": {
     "name": "#%% md\n"
    }
   }
  },
  {
   "cell_type": "code",
   "metadata": {
    "id": "GnnBP31GOndp",
    "outputId": "91763c34-15a6-4532-ebe4-17556cbb69d0",
    "colab": {
     "base_uri": "https://localhost:8080/"
    }
   },
   "source": [
    "import datetime\n",
    "import json\n",
    "import matplotlib.pyplot as plt\n",
    "import numpy as np\n",
    "import pandas as pd\n",
    "\n"
   ],
   "execution_count": 501,
   "outputs": []
  },
  {
   "cell_type": "code",
   "execution_count": 502,
   "outputs": [],
   "source": [
    "target_distance = 11500\n",
    "split_distance = 500\n",
    "start_pace_minpkm = 7\n",
    "end_pace_minpkm = 5.75\n",
    "\n",
    "pace_toleration = 0.33334"
   ],
   "metadata": {
    "collapsed": false,
    "pycharm": {
     "name": "#%%\n"
    }
   }
  },
  {
   "cell_type": "code",
   "execution_count": 503,
   "outputs": [],
   "source": [
    "\n",
    "def warm_up(time, step_order):\n",
    "    return {\n",
    "        \"type\": \"ExecutableStepDTO\",\n",
    "        \"stepId\": 2698638070,\n",
    "        \"stepOrder\": step_order,\n",
    "        \"stepType\": {\n",
    "            \"stepTypeId\": 1,\n",
    "            \"stepTypeKey\": \"warmup\",\n",
    "            \"displayOrder\": 1\n",
    "        },\n",
    "        \"description\": \"A warm up note\",\n",
    "        \"endCondition\": {\n",
    "            \"conditionTypeId\": 2,\n",
    "            \"conditionTypeKey\": \"time\",\n",
    "            \"displayOrder\": 2,\n",
    "            \"displayable\": True\n",
    "        },\n",
    "        \"endConditionValue\": time,\n",
    "        \"targetType\": {\n",
    "            \"workoutTargetTypeId\": 1,\n",
    "            \"workoutTargetTypeKey\": \"no.target\",\n",
    "            \"displayOrder\": 1\n",
    "        }\n",
    "    }\n",
    "\n",
    "\n",
    "def run(distance, min_speed_mps, max_speed_mps, description, step_order):\n",
    "    return {\n",
    "        \"type\": \"ExecutableStepDTO\",\n",
    "        \"stepId\": 2698638071 + step_order,\n",
    "        \"stepOrder\": step_order,\n",
    "        \"stepType\": {\n",
    "            \"stepTypeId\": 3,\n",
    "            \"stepTypeKey\": \"interval\",\n",
    "            \"displayOrder\": 3\n",
    "        },\n",
    "        \"description\": description,\n",
    "        \"endCondition\": {\n",
    "            \"conditionTypeId\": 3,\n",
    "            \"conditionTypeKey\": \"distance\",\n",
    "            \"displayOrder\": 3,\n",
    "            \"displayable\": True\n",
    "        },\n",
    "        \"endConditionValue\": distance,\n",
    "        \"preferredEndConditionUnit\": {\n",
    "            \"unitId\": 2,\n",
    "            \"unitKey\": \"kilometer\",\n",
    "            \"factor\": 100000\n",
    "        },\n",
    "        \"targetType\": {\n",
    "            \"workoutTargetTypeId\": 6,\n",
    "            \"workoutTargetTypeKey\": \"pace.zone\",\n",
    "            \"displayOrder\": 6\n",
    "        },\n",
    "        \"targetValueOne\": min_speed_mps,\n",
    "        \"targetValueTwo\": max_speed_mps\n",
    "    }"
   ],
   "metadata": {
    "collapsed": false,
    "pycharm": {
     "name": "#%%\n"
    }
   }
  },
  {
   "cell_type": "code",
   "execution_count": 504,
   "outputs": [],
   "source": [
    "def workout_template(name, description, steps, estimated_duration_in_secs, estimated_distance_in_meters):\n",
    "    return {\n",
    "    \"workoutId\": 388473607,\n",
    "    \"ownerId\": 66888980,\n",
    "    \"workoutName\": name,\n",
    "    \"description\": description,\n",
    "    \"updatedDate\": \"2021-09-12T14:08:55.0\",\n",
    "    \"createdDate\": \"2021-09-12T14:08:55.0\",\n",
    "    \"sportType\": {\n",
    "        \"sportTypeId\": 1,\n",
    "        \"sportTypeKey\": \"running\",\n",
    "        \"displayOrder\": 1\n",
    "    },\n",
    "    \"estimatedDurationInSecs\": estimated_duration_in_secs,\n",
    "    \"estimatedDistanceInMeters\": estimated_distance_in_meters,\n",
    "    \"workoutSegments\": [\n",
    "        {\n",
    "            \"segmentOrder\": 1,\n",
    "            \"sportType\": {\n",
    "                \"sportTypeId\": 1,\n",
    "                \"sportTypeKey\": \"running\",\n",
    "                \"displayOrder\": 1\n",
    "            },\n",
    "            \"workoutSteps\": steps\n",
    "        }\n",
    "    ],\n",
    "    \"shared\": False\n",
    "}"
   ],
   "metadata": {
    "collapsed": false,
    "pycharm": {
     "name": "#%%\n"
    }
   }
  },
  {
   "cell_type": "code",
   "execution_count": 504,
   "outputs": [],
   "source": [],
   "metadata": {
    "collapsed": false,
    "pycharm": {
     "name": "#%%\n"
    }
   }
  },
  {
   "cell_type": "code",
   "execution_count": 505,
   "outputs": [],
   "source": [
    "def minpkm_to_mps(val):\n",
    "    return 1000 / val / 60"
   ],
   "metadata": {
    "collapsed": false,
    "pycharm": {
     "name": "#%%\n"
    }
   }
  },
  {
   "cell_type": "code",
   "execution_count": 506,
   "outputs": [
    {
     "name": "stdout",
     "output_type": "stream",
     "text": [
      "-0.00011363636363636364\n",
      "    distance      pace       mps  lap  lap_time_sec   total_time    time_left  \\\n",
      "0        0.0  7.000000  2.380952    1    210.000000   210.000000  4398.750000   \n",
      "1      500.0  6.943182  2.400436    2    208.295455   418.295455  4226.250000   \n",
      "2     1000.0  6.886364  2.420242    3    206.590909   624.886364  4052.045455   \n",
      "3     1500.0  6.829545  2.440377    4    204.886364   829.772727  3876.136364   \n",
      "4     2000.0  6.772727  2.460850    5    203.181818  1032.954545  3698.522727   \n",
      "5     2500.0  6.715909  2.481669    6    201.477273  1234.431818  3519.204545   \n",
      "6     3000.0  6.659091  2.502844    7    199.772727  1434.204545  3338.181818   \n",
      "7     3500.0  6.602273  2.524383    8    198.068182  1632.272727  3155.454545   \n",
      "8     4000.0  6.545455  2.546296    9    196.363636  1828.636364  2971.022727   \n",
      "9     4500.0  6.488636  2.568593   10    194.659091  2023.295455  2784.886364   \n",
      "10    5000.0  6.431818  2.591284   11    192.954545  2216.250000  2597.045455   \n",
      "11    5500.0  6.375000  2.614379   12    191.250000  2407.500000  2407.500000   \n",
      "12    6000.0  6.318182  2.637890   13    189.545455  2597.045455  2216.250000   \n",
      "13    6500.0  6.261364  2.661827   14    187.840909  2784.886364  2023.295455   \n",
      "14    7000.0  6.204545  2.686203   15    186.136364  2971.022727  1828.636364   \n",
      "15    7500.0  6.147727  2.711029   16    184.431818  3155.454545  1632.272727   \n",
      "16    8000.0  6.090909  2.736318   17    182.727273  3338.181818  1434.204545   \n",
      "17    8500.0  6.034091  2.762084   18    181.022727  3519.204545  1234.431818   \n",
      "18    9000.0  5.977273  2.788340   19    179.318182  3698.522727  1032.954545   \n",
      "19    9500.0  5.920455  2.815099   20    177.613636  3876.136364   829.772727   \n",
      "20   10000.0  5.863636  2.842377   21    175.909091  4052.045455   624.886364   \n",
      "21   10500.0  5.806818  2.870189   22    174.204545  4226.250000   418.295455   \n",
      "22   11000.0  5.750000  2.898551   23    172.500000  4398.750000   210.000000   \n",
      "\n",
      "   formatted_time_left  laps_left formatted_pace  distance_left  \\\n",
      "0              1:13:18         23           7:00        11500.0   \n",
      "1              1:10:26         22           6:56        11000.0   \n",
      "2              1:07:32         21           6:53        10500.0   \n",
      "3              1:04:36         20           6:49        10000.0   \n",
      "4              1:01:38         19           6:46         9500.0   \n",
      "5                58:39         18           6:42         9000.0   \n",
      "6                55:38         17           6:39         8500.0   \n",
      "7                52:35         16           6:36         8000.0   \n",
      "8                49:31         15           6:32         7500.0   \n",
      "9                46:24         14           6:29         7000.0   \n",
      "10               43:17         13           6:25         6500.0   \n",
      "11               40:07         12           6:22         6000.0   \n",
      "12               36:56         11           6:19         5500.0   \n",
      "13               33:43         10           6:15         5000.0   \n",
      "14               30:28          9           6:12         4500.0   \n",
      "15               27:12          8           6:08         4000.0   \n",
      "16               23:54          7           6:05         3500.0   \n",
      "17               20:34          6           6:02         3000.0   \n",
      "18               17:12          5           5:58         2500.0   \n",
      "19               13:49          4           5:55         2000.0   \n",
      "20               10:24          3           5:51         1500.0   \n",
      "21               06:58          2           5:48         1000.0   \n",
      "22               03:30          1           5:45          500.0   \n",
      "\n",
      "   formatted_distance_left  min_pace  max_pace  min_speed_mps  max_speed_mps  \\\n",
      "0                    11.50  7.333340  6.666660       2.272725       2.500003   \n",
      "1                    11.00  7.276522  6.609842       2.290472       2.521493   \n",
      "2                    10.50  7.219704  6.553024       2.308497       2.543355   \n",
      "3                    10.00  7.162885  6.496205       2.326809       2.565600   \n",
      "4                     9.50  7.106067  6.439387       2.345414       2.588238   \n",
      "5                     9.00  7.049249  6.382569       2.364318       2.611279   \n",
      "6                     8.50  6.992431  6.325751       2.383530       2.634733   \n",
      "7                     8.00  6.935613  6.268933       2.403056       2.658613   \n",
      "8                     7.50  6.878795  6.212115       2.422905       2.682930   \n",
      "9                     7.00  6.821976  6.155296       2.443085       2.707695   \n",
      "10                    6.50  6.765158  6.098478       2.463603       2.732922   \n",
      "11                    6.00  6.708340  6.041660       2.484470       2.758624   \n",
      "12                    5.50  6.651522  5.984842       2.505692       2.784813   \n",
      "13                    5.00  6.594704  5.928024       2.527281       2.811505   \n",
      "14                    4.50  6.537885  5.871205       2.549244       2.838713   \n",
      "15                    4.00  6.481067  5.814387       2.571593       2.866453   \n",
      "16                    3.50  6.424249  5.757569       2.594337       2.894740   \n",
      "17                    3.00  6.367431  5.700751       2.617487       2.923591   \n",
      "18                    2.50  6.310613  5.643933       2.641054       2.953024   \n",
      "19                    2.00  6.253795  5.587115       2.665049       2.983054   \n",
      "20                    1.50  6.196976  5.530296       2.689484       3.013702   \n",
      "21                    1.00  6.140158  5.473478       2.714371       3.044986   \n",
      "22                    0.50  6.083340  5.416660       2.739723       3.076927   \n",
      "\n",
      "   formatted_min_pace formatted_max_pace  split_time  \\\n",
      "0                7:20               6:39         500   \n",
      "1                7:16               6:36         500   \n",
      "2                7:13               6:33         500   \n",
      "3                7:09               6:29         500   \n",
      "4                7:06               6:26         500   \n",
      "5                7:02               6:22         500   \n",
      "6                6:59               6:19         500   \n",
      "7                6:56               6:16         500   \n",
      "8                6:52               6:12         500   \n",
      "9                6:49               6:09         500   \n",
      "10               6:45               6:05         500   \n",
      "11               6:42               6:02         500   \n",
      "12               6:39               5:59         500   \n",
      "13               6:35               5:55         500   \n",
      "14               6:32               5:52         500   \n",
      "15               6:28               5:48         500   \n",
      "16               6:25               5:45         500   \n",
      "17               6:22               5:42         500   \n",
      "18               6:18               5:38         500   \n",
      "19               6:15               5:35         500   \n",
      "20               6:11               5:31         500   \n",
      "21               6:08               5:28         500   \n",
      "22               6:05               5:24         500   \n",
      "\n",
      "                          description  \n",
      "0   left: 23 laps | 11.50km | 1:13:18  \n",
      "1   left: 22 laps | 11.00km | 1:10:26  \n",
      "2   left: 21 laps | 10.50km | 1:07:32  \n",
      "3   left: 20 laps | 10.00km | 1:04:36  \n",
      "4    left: 19 laps | 9.50km | 1:01:38  \n",
      "5      left: 18 laps | 9.00km | 58:39  \n",
      "6      left: 17 laps | 8.50km | 55:38  \n",
      "7      left: 16 laps | 8.00km | 52:35  \n",
      "8      left: 15 laps | 7.50km | 49:31  \n",
      "9      left: 14 laps | 7.00km | 46:24  \n",
      "10     left: 13 laps | 6.50km | 43:17  \n",
      "11     left: 12 laps | 6.00km | 40:07  \n",
      "12     left: 11 laps | 5.50km | 36:56  \n",
      "13     left: 10 laps | 5.00km | 33:43  \n",
      "14      left: 9 laps | 4.50km | 30:28  \n",
      "15      left: 8 laps | 4.00km | 27:12  \n",
      "16      left: 7 laps | 3.50km | 23:54  \n",
      "17      left: 6 laps | 3.00km | 20:34  \n",
      "18      left: 5 laps | 2.50km | 17:12  \n",
      "19      left: 4 laps | 2.00km | 13:49  \n",
      "20      left: 3 laps | 1.50km | 10:24  \n",
      "21      left: 2 laps | 1.00km | 06:58  \n",
      "22      left: 1 laps | 0.50km | 03:30  \n"
     ]
    },
    {
     "data": {
      "text/plain": "<Figure size 432x288 with 1 Axes>",
      "image/png": "[encoded data removed]"
     },
     "metadata": {
      "needs_background": "light"
     },
     "output_type": "display_data"
    }
   ],
   "source": [
    "splits_number = int(target_distance/split_distance)\n",
    "total_distance = split_distance * splits_number\n",
    "\n",
    "\n",
    "\n",
    "slope = (end_pace_minpkm - start_pace_minpkm) / (total_distance - split_distance)\n",
    "# - split_distance to have the last split at end disntance\n",
    "\n",
    "print(slope)\n",
    "\n",
    "x = np.arange(0, total_distance, split_distance)\n",
    "y = start_pace_minpkm + slope * x\n",
    "\n",
    "df = pd.DataFrame(np.array([x, y]).transpose(), columns=['distance', 'pace'])\n",
    "\n",
    "df['mps'] = 1000 / df['pace'] / 60\n",
    "\n",
    "df['lap'] = df.index + 1\n",
    "\n",
    "# df['lap_time_sec'] = df['mps'].apply(lambda mps: datetime.timedelta(seconds=split_distance / mps))\n",
    "df['lap_time_sec'] = split_distance / df['mps']\n",
    "\n",
    "df['total_time'] = df['lap_time_sec'].cumsum()\n",
    "\n",
    "df['time_left'] = df['total_time'].values[::-1]\n",
    "\n",
    "def format_secs(value):\n",
    "    h = int(value / 60 / 60)\n",
    "    m = int((value / 60) % 60)\n",
    "    s = int(value % 60)\n",
    "    if h > 0:\n",
    "        return \"{:d}:{:02d}:{:02d}\".format(h,m,s)\n",
    "    else:\n",
    "        return \"{:02d}:{:02d}\".format(m,s)\n",
    "\n",
    "\n",
    "df['formatted_time_left'] = df['time_left'].apply(format_secs)\n",
    "\n",
    "df['laps_left'] = range(len(df), 0, -1)\n",
    "\n",
    "def format_pace(input):\n",
    "    min = int(input)\n",
    "    sec = int((input % 1) * 60)\n",
    "    return \"{:d}:{:02d}\".format(min, sec)\n",
    "\n",
    "df['formatted_pace'] = df['pace'].apply(format_pace)\n",
    "\n",
    "df['distance_left'] = total_distance - df['distance']\n",
    "\n",
    "def format_meters_to_km(input):\n",
    "    return \"{:.2f}\".format(input/1000.0)\n",
    "\n",
    "df['formatted_distance_left'] = df['distance_left'].apply(lambda dis: format_meters_to_km(dis))\n",
    "\n",
    "df['min_pace'] = df['pace'] + pace_toleration\n",
    "df['max_pace'] = df['pace'] - pace_toleration\n",
    "\n",
    "df['min_speed_mps'] = df['min_pace'].apply(minpkm_to_mps)\n",
    "df['max_speed_mps'] = df['max_pace'].apply(minpkm_to_mps)\n",
    "\n",
    "df['formatted_min_pace'] = df['min_pace'].apply(format_pace)\n",
    "df['formatted_max_pace'] = df['max_pace'].apply(format_pace)\n",
    "\n",
    "df['split_time'] = split_distance\n",
    "\n",
    "df['description'] = df.apply(lambda row: \"left: {:d} laps | {:s}km | {:s}\".format(row['laps_left'], row['formatted_distance_left'], row['formatted_time_left']), axis=1)\n",
    "\n",
    "\n",
    "\n",
    "# ,\n",
    "print(df)\n",
    "\n",
    "fig = plt.figure()\n",
    "\n",
    "\n",
    "plt.bar(x,y,width=split_distance)\n",
    "plt.xlim(0, total_distance)\n",
    "plt.ylim(4, max(start_pace_minpkm, end_pace_minpkm))\n",
    "plt.show()\n"
   ],
   "metadata": {
    "collapsed": false,
    "pycharm": {
     "name": "#%%\n"
    }
   }
  },
  {
   "cell_type": "code",
   "execution_count": 507,
   "outputs": [
    {
     "name": "stdout",
     "output_type": "stream",
     "text": [
      "[{'type': 'ExecutableStepDTO', 'stepId': 2698638070, 'stepOrder': 1, 'stepType': {'stepTypeId': 1, 'stepTypeKey': 'warmup', 'displayOrder': 1}, 'description': 'A warm up note', 'endCondition': {'conditionTypeId': 2, 'conditionTypeKey': 'time', 'displayOrder': 2, 'displayable': True}, 'endConditionValue': 120, 'targetType': {'workoutTargetTypeId': 1, 'workoutTargetTypeKey': 'no.target', 'displayOrder': 1}}, {'type': 'ExecutableStepDTO', 'stepId': 2698638073, 'stepOrder': 2, 'stepType': {'stepTypeId': 3, 'stepTypeKey': 'interval', 'displayOrder': 3}, 'description': 'left: 23 laps | 11.50km | 1:13:18', 'endCondition': {'conditionTypeId': 3, 'conditionTypeKey': 'distance', 'displayOrder': 3, 'displayable': True}, 'endConditionValue': 500, 'preferredEndConditionUnit': {'unitId': 2, 'unitKey': 'kilometer', 'factor': 100000}, 'targetType': {'workoutTargetTypeId': 6, 'workoutTargetTypeKey': 'pace.zone', 'displayOrder': 6}, 'targetValueOne': 2.272725206613449, 'targetValueTwo': 2.5000025000025}, {'type': 'ExecutableStepDTO', 'stepId': 2698638074, 'stepOrder': 3, 'stepType': {'stepTypeId': 3, 'stepTypeKey': 'interval', 'displayOrder': 3}, 'description': 'left: 22 laps | 11.00km | 1:10:26', 'endCondition': {'conditionTypeId': 3, 'conditionTypeKey': 'distance', 'displayOrder': 3, 'displayable': True}, 'endConditionValue': 500, 'preferredEndConditionUnit': {'unitId': 2, 'unitKey': 'kilometer', 'factor': 100000}, 'targetType': {'workoutTargetTypeId': 6, 'workoutTargetTypeKey': 'pace.zone', 'displayOrder': 6}, 'targetValueOne': 2.2904716131025307, 'targetValueTwo': 2.5214925145139397}, {'type': 'ExecutableStepDTO', 'stepId': 2698638075, 'stepOrder': 4, 'stepType': {'stepTypeId': 3, 'stepTypeKey': 'interval', 'displayOrder': 3}, 'description': 'left: 21 laps | 10.50km | 1:07:32', 'endCondition': {'conditionTypeId': 3, 'conditionTypeKey': 'distance', 'displayOrder': 3, 'displayable': True}, 'endConditionValue': 500, 'preferredEndConditionUnit': {'unitId': 2, 'unitKey': 'kilometer', 'factor': 100000}, 'targetType': {'workoutTargetTypeId': 6, 'workoutTargetTypeKey': 'pace.zone', 'displayOrder': 6}, 'targetValueOne': 2.3084973436750658, 'targetValueTwo': 2.543355188615683}, {'type': 'ExecutableStepDTO', 'stepId': 2698638076, 'stepOrder': 5, 'stepType': {'stepTypeId': 3, 'stepTypeKey': 'interval', 'displayOrder': 3}, 'description': 'left: 20 laps | 10.00km | 1:04:36', 'endCondition': {'conditionTypeId': 3, 'conditionTypeKey': 'distance', 'displayOrder': 3, 'displayable': True}, 'endConditionValue': 500, 'preferredEndConditionUnit': {'unitId': 2, 'unitKey': 'kilometer', 'factor': 100000}, 'targetType': {'workoutTargetTypeId': 6, 'workoutTargetTypeKey': 'pace.zone', 'displayOrder': 6}, 'targetValueOne': 2.3268090453813226, 'targetValueTwo': 2.5656003005577426}, {'type': 'ExecutableStepDTO', 'stepId': 2698638077, 'stepOrder': 6, 'stepType': {'stepTypeId': 3, 'stepTypeKey': 'interval', 'displayOrder': 3}, 'description': 'left: 19 laps | 9.50km | 1:01:38', 'endCondition': {'conditionTypeId': 3, 'conditionTypeKey': 'distance', 'displayOrder': 3, 'displayable': True}, 'endConditionValue': 500, 'preferredEndConditionUnit': {'unitId': 2, 'unitKey': 'kilometer', 'factor': 100000}, 'targetType': {'workoutTargetTypeId': 6, 'workoutTargetTypeKey': 'pace.zone', 'displayOrder': 6}, 'targetValueOne': 2.3454135778635945, 'targetValueTwo': 2.5882379737051964}, {'type': 'ExecutableStepDTO', 'stepId': 2698638078, 'stepOrder': 7, 'stepType': {'stepTypeId': 3, 'stepTypeKey': 'interval', 'displayOrder': 3}, 'description': 'left: 18 laps | 9.00km | 58:39', 'endCondition': {'conditionTypeId': 3, 'conditionTypeKey': 'distance', 'displayOrder': 3, 'displayable': True}, 'endConditionValue': 500, 'preferredEndConditionUnit': {'unitId': 2, 'unitKey': 'kilometer', 'factor': 100000}, 'targetType': {'workoutTargetTypeId': 6, 'workoutTargetTypeKey': 'pace.zone', 'displayOrder': 6}, 'targetValueOne': 2.3643180219238484, 'targetValueTwo': 2.6112786918994053}, {'type': 'ExecutableStepDTO', 'stepId': 2698638079, 'stepOrder': 8, 'stepType': {'stepTypeId': 3, 'stepTypeKey': 'interval', 'displayOrder': 3}, 'description': 'left: 17 laps | 8.50km | 55:38', 'endCondition': {'conditionTypeId': 3, 'conditionTypeKey': 'distance', 'displayOrder': 3, 'displayable': True}, 'endConditionValue': 500, 'preferredEndConditionUnit': {'unitId': 2, 'unitKey': 'kilometer', 'factor': 100000}, 'targetType': {'workoutTargetTypeId': 6, 'workoutTargetTypeKey': 'pace.zone', 'displayOrder': 6}, 'targetValueOne': 2.3835296885090727, 'targetValueTwo': 2.6347333156470873}, {'type': 'ExecutableStepDTO', 'stepId': 2698638080, 'stepOrder': 9, 'stepType': {'stepTypeId': 3, 'stepTypeKey': 'interval', 'displayOrder': 3}, 'description': 'left: 16 laps | 8.00km | 52:35', 'endCondition': {'conditionTypeId': 3, 'conditionTypeKey': 'distance', 'displayOrder': 3, 'displayable': True}, 'endConditionValue': 500, 'preferredEndConditionUnit': {'unitId': 2, 'unitKey': 'kilometer', 'factor': 100000}, 'targetType': {'workoutTargetTypeId': 6, 'workoutTargetTypeKey': 'pace.zone', 'displayOrder': 6}, 'targetValueOne': 2.403056128138293, 'targetValueTwo': 2.6586130991897607}, {'type': 'ExecutableStepDTO', 'stepId': 2698638081, 'stepOrder': 10, 'stepType': {'stepTypeId': 3, 'stepTypeKey': 'interval', 'displayOrder': 3}, 'description': 'left: 15 laps | 7.50km | 49:31', 'endCondition': {'conditionTypeId': 3, 'conditionTypeKey': 'distance', 'displayOrder': 3, 'displayable': True}, 'endConditionValue': 500, 'preferredEndConditionUnit': {'unitId': 2, 'unitKey': 'kilometer', 'factor': 100000}, 'targetType': {'workoutTargetTypeId': 6, 'workoutTargetTypeKey': 'pace.zone', 'displayOrder': 6}, 'targetValueOne': 2.4229051407967797, 'targetValueTwo': 2.682929708509931}, {'type': 'ExecutableStepDTO', 'stepId': 2698638082, 'stepOrder': 11, 'stepType': {'stepTypeId': 3, 'stepTypeKey': 'interval', 'displayOrder': 3}, 'description': 'left: 14 laps | 7.00km | 46:24', 'endCondition': {'conditionTypeId': 3, 'conditionTypeKey': 'distance', 'displayOrder': 3, 'displayable': True}, 'endConditionValue': 500, 'preferredEndConditionUnit': {'unitId': 2, 'unitKey': 'kilometer', 'factor': 100000}, 'targetType': {'workoutTargetTypeId': 6, 'workoutTargetTypeKey': 'pace.zone', 'displayOrder': 6}, 'targetValueOne': 2.4430847863246954, 'targetValueTwo': 2.7076952403345373}, {'type': 'ExecutableStepDTO', 'stepId': 2698638083, 'stepOrder': 12, 'stepType': {'stepTypeId': 3, 'stepTypeKey': 'interval', 'displayOrder': 3}, 'description': 'left: 13 laps | 6.50km | 43:17', 'endCondition': {'conditionTypeId': 3, 'conditionTypeKey': 'distance', 'displayOrder': 3, 'displayable': True}, 'endConditionValue': 500, 'preferredEndConditionUnit': {'unitId': 2, 'unitKey': 'kilometer', 'factor': 100000}, 'targetType': {'workoutTargetTypeId': 6, 'workoutTargetTypeKey': 'pace.zone', 'displayOrder': 6}, 'targetValueOne': 2.4636033953292413, 'targetValueTwo': 2.7329222422007122}, {'type': 'ExecutableStepDTO', 'stepId': 2698638084, 'stepOrder': 13, 'stepType': {'stepTypeId': 3, 'stepTypeKey': 'interval', 'displayOrder': 3}, 'description': 'left: 12 laps | 6.00km | 40:07', 'endCondition': {'conditionTypeId': 3, 'conditionTypeKey': 'distance', 'displayOrder': 3, 'displayable': True}, 'endConditionValue': 500, 'preferredEndConditionUnit': {'unitId': 2, 'unitKey': 'kilometer', 'factor': 100000}, 'targetType': {'workoutTargetTypeId': 6, 'workoutTargetTypeKey': 'pace.zone', 'displayOrder': 6}, 'targetValueOne': 2.4844695806513486, 'targetValueTwo': 2.758623733653775}, {'type': 'ExecutableStepDTO', 'stepId': 2698638085, 'stepOrder': 14, 'stepType': {'stepTypeId': 3, 'stepTypeKey': 'interval', 'displayOrder': 3}, 'description': 'left: 11 laps | 5.50km | 36:56', 'endCondition': {'conditionTypeId': 3, 'conditionTypeKey': 'distance', 'displayOrder': 3, 'displayable': True}, 'endConditionValue': 500, 'preferredEndConditionUnit': {'unitId': 2, 'unitKey': 'kilometer', 'factor': 100000}, 'targetType': {'workoutTargetTypeId': 6, 'workoutTargetTypeKey': 'pace.zone', 'displayOrder': 6}, 'targetValueOne': 2.5056922494200693, 'targetValueTwo': 2.7848132286527103}, {'type': 'ExecutableStepDTO', 'stepId': 2698638086, 'stepOrder': 15, 'stepType': {'stepTypeId': 3, 'stepTypeKey': 'interval', 'displayOrder': 3}, 'description': 'left: 10 laps | 5.00km | 33:43', 'endCondition': {'conditionTypeId': 3, 'conditionTypeKey': 'distance', 'displayOrder': 3, 'displayable': True}, 'endConditionValue': 500, 'preferredEndConditionUnit': {'unitId': 2, 'unitKey': 'kilometer', 'factor': 100000}, 'targetType': {'workoutTargetTypeId': 6, 'workoutTargetTypeKey': 'pace.zone', 'displayOrder': 6}, 'targetValueOne': 2.527280615730107, 'targetValueTwo': 2.811504759264138}, {'type': 'ExecutableStepDTO', 'stepId': 2698638087, 'stepOrder': 16, 'stepType': {'stepTypeId': 3, 'stepTypeKey': 'interval', 'displayOrder': 3}, 'description': 'left: 9 laps | 4.50km | 30:28', 'endCondition': {'conditionTypeId': 3, 'conditionTypeKey': 'distance', 'displayOrder': 3, 'displayable': True}, 'endConditionValue': 500, 'preferredEndConditionUnit': {'unitId': 2, 'unitKey': 'kilometer', 'factor': 100000}, 'targetType': {'workoutTargetTypeId': 6, 'workoutTargetTypeKey': 'pace.zone', 'displayOrder': 6}, 'targetValueOne': 2.5492442139804075, 'targetValueTwo': 2.8387129007320677}, {'type': 'ExecutableStepDTO', 'stepId': 2698638088, 'stepOrder': 17, 'stepType': {'stepTypeId': 3, 'stepTypeKey': 'interval', 'displayOrder': 3}, 'description': 'left: 8 laps | 4.00km | 27:12', 'endCondition': {'conditionTypeId': 3, 'conditionTypeKey': 'distance', 'displayOrder': 3, 'displayable': True}, 'endConditionValue': 500, 'preferredEndConditionUnit': {'unitId': 2, 'unitKey': 'kilometer', 'factor': 100000}, 'targetType': {'workoutTargetTypeId': 6, 'workoutTargetTypeKey': 'pace.zone', 'displayOrder': 6}, 'targetValueOne': 2.571592912914362, 'targetValueTwo': 2.8664527980175403}, {'type': 'ExecutableStepDTO', 'stepId': 2698638089, 'stepOrder': 18, 'stepType': {'stepTypeId': 3, 'stepTypeKey': 'interval', 'displayOrder': 3}, 'description': 'left: 7 laps | 3.50km | 23:54', 'endCondition': {'conditionTypeId': 3, 'conditionTypeKey': 'distance', 'displayOrder': 3, 'displayable': True}, 'endConditionValue': 500, 'preferredEndConditionUnit': {'unitId': 2, 'unitKey': 'kilometer', 'factor': 100000}, 'targetType': {'workoutTargetTypeId': 6, 'workoutTargetTypeKey': 'pace.zone', 'displayOrder': 6}, 'targetValueOne': 2.5943369304050723, 'targetValueTwo': 2.894740193909698}, {'type': 'ExecutableStepDTO', 'stepId': 2698638090, 'stepOrder': 19, 'stepType': {'stepTypeId': 3, 'stepTypeKey': 'interval', 'displayOrder': 3}, 'description': 'left: 6 laps | 3.00km | 20:34', 'endCondition': {'conditionTypeId': 3, 'conditionTypeKey': 'distance', 'displayOrder': 3, 'displayable': True}, 'endConditionValue': 500, 'preferredEndConditionUnit': {'unitId': 2, 'unitKey': 'kilometer', 'factor': 100000}, 'targetType': {'workoutTargetTypeId': 6, 'workoutTargetTypeKey': 'pace.zone', 'displayOrder': 6}, 'targetValueOne': 2.6174868490322107, 'targetValueTwo': 2.9235914588179184}, {'type': 'ExecutableStepDTO', 'stepId': 2698638091, 'stepOrder': 20, 'stepType': {'stepTypeId': 3, 'stepTypeKey': 'interval', 'displayOrder': 3}, 'description': 'left: 5 laps | 2.50km | 17:12', 'endCondition': {'conditionTypeId': 3, 'conditionTypeKey': 'distance', 'displayOrder': 3, 'displayable': True}, 'endConditionValue': 500, 'preferredEndConditionUnit': {'unitId': 2, 'unitKey': 'kilometer', 'factor': 100000}, 'targetType': {'workoutTargetTypeId': 6, 'workoutTargetTypeKey': 'pace.zone', 'displayOrder': 6}, 'targetValueOne': 2.6410536325003644, 'targetValueTwo': 2.953023622363473}, {'type': 'ExecutableStepDTO', 'stepId': 2698638092, 'stepOrder': 21, 'stepType': {'stepTypeId': 3, 'stepTypeKey': 'interval', 'displayOrder': 3}, 'description': 'left: 4 laps | 2.00km | 13:49', 'endCondition': {'conditionTypeId': 3, 'conditionTypeKey': 'distance', 'displayOrder': 3, 'displayable': True}, 'endConditionValue': 500, 'preferredEndConditionUnit': {'unitId': 2, 'unitKey': 'kilometer', 'factor': 100000}, 'targetType': {'workoutTargetTypeId': 6, 'workoutTargetTypeKey': 'pace.zone', 'displayOrder': 6}, 'targetValueOne': 2.6650486429523856, 'targetValueTwo': 2.983054406898818}, {'type': 'ExecutableStepDTO', 'stepId': 2698638093, 'stepOrder': 22, 'stepType': {'stepTypeId': 3, 'stepTypeKey': 'interval', 'displayOrder': 3}, 'description': 'left: 3 laps | 1.50km | 10:24', 'endCondition': {'conditionTypeId': 3, 'conditionTypeKey': 'distance', 'displayOrder': 3, 'displayable': True}, 'endConditionValue': 500, 'preferredEndConditionUnit': {'unitId': 2, 'unitKey': 'kilometer', 'factor': 100000}, 'targetType': {'workoutTargetTypeId': 6, 'workoutTargetTypeKey': 'pace.zone', 'displayOrder': 6}, 'targetValueOne': 2.689483659235184, 'targetValueTwo': 3.013702263093139}, {'type': 'ExecutableStepDTO', 'stepId': 2698638094, 'stepOrder': 23, 'stepType': {'stepTypeId': 3, 'stepTypeKey': 'interval', 'displayOrder': 3}, 'description': 'left: 2 laps | 1.00km | 06:58', 'endCondition': {'conditionTypeId': 3, 'conditionTypeKey': 'distance', 'displayOrder': 3, 'displayable': True}, 'endConditionValue': 500, 'preferredEndConditionUnit': {'unitId': 2, 'unitKey': 'kilometer', 'factor': 100000}, 'targetType': {'workoutTargetTypeId': 6, 'workoutTargetTypeKey': 'pace.zone', 'displayOrder': 6}, 'targetValueOne': 2.7143708961796564, 'targetValueTwo': 3.0449864077343096}, {'type': 'ExecutableStepDTO', 'stepId': 2698638095, 'stepOrder': 24, 'stepType': {'stepTypeId': 3, 'stepTypeKey': 'interval', 'displayOrder': 3}, 'description': 'left: 1 laps | 0.50km | 03:30', 'endCondition': {'conditionTypeId': 3, 'conditionTypeKey': 'distance', 'displayOrder': 3, 'displayable': True}, 'endConditionValue': 500, 'preferredEndConditionUnit': {'unitId': 2, 'unitKey': 'kilometer', 'factor': 100000}, 'targetType': {'workoutTargetTypeId': 6, 'workoutTargetTypeKey': 'pace.zone', 'displayOrder': 6}, 'targetValueOne': 2.7397230249610685, 'targetValueTwo': 3.0769268639099865}]\n",
      "11.50km 7:00->5:45\n",
      "500m * 23 splits, est. time 1:13:18\n"
     ]
    }
   ],
   "source": [
    "steps = list(df.apply(lambda row: run(distance=split_distance, min_speed_mps=row['min_speed_mps'], max_speed_mps=row['max_speed_mps'], description=row['description'], step_order=row['lap'] + 1), axis=1).values)\n",
    "\n",
    "steps.insert(0, warm_up(\n",
    "    time=120,\n",
    "    step_order=1\n",
    "))\n",
    "\n",
    "\n",
    "print(steps)\n",
    "\n",
    "name = \"{:s}km {:s}->{:s}\".format(format_meters_to_km(total_distance), format_pace(start_pace_minpkm), format_pace(end_pace_minpkm))\n",
    "print(name)\n",
    "description = str(split_distance) + \"m * \" + str(splits_number) + \" splits, est. time \" + df['formatted_time_left'][0]\n",
    "print(description)\n",
    "\n",
    "est_time_sec = int(df['time_left'][0])\n",
    "\n",
    "workout = workout_template(\n",
    "    name=name,\n",
    "    description=description,\n",
    "    steps=steps,\n",
    "    estimated_duration_in_secs=est_time_sec,\n",
    "    estimated_distance_in_meters=total_distance\n",
    ")"
   ],
   "metadata": {
    "collapsed": false,
    "pycharm": {
     "name": "#%%\n"
    }
   }
  },
  {
   "cell_type": "code",
   "execution_count": 508,
   "outputs": [
    {
     "data": {
      "text/plain": "'{\"workoutId\": 388473607, \"ownerId\": 66888980, \"workoutName\": \"11.50km 7:00->5:45\", \"description\": \"500m * 23 splits, est. time 1:13:18\", \"updatedDate\": \"2021-09-12T14:08:55.0\", \"createdDate\": \"2021-09-12T14:08:55.0\", \"sportType\": {\"sportTypeId\": 1, \"sportTypeKey\": \"running\", \"displayOrder\": 1}, \"estimatedDurationInSecs\": 4398, \"estimatedDistanceInMeters\": 11500, \"workoutSegments\": [{\"segmentOrder\": 1, \"sportType\": {\"sportTypeId\": 1, \"sportTypeKey\": \"running\", \"displayOrder\": 1}, \"workoutSteps\": [{\"type\": \"ExecutableStepDTO\", \"stepId\": 2698638070, \"stepOrder\": 1, \"stepType\": {\"stepTypeId\": 1, \"stepTypeKey\": \"warmup\", \"displayOrder\": 1}, \"description\": \"A warm up note\", \"endCondition\": {\"conditionTypeId\": 2, \"conditionTypeKey\": \"time\", \"displayOrder\": 2, \"displayable\": true}, \"endConditionValue\": 120, \"targetType\": {\"workoutTargetTypeId\": 1, \"workoutTargetTypeKey\": \"no.target\", \"displayOrder\": 1}}, {\"type\": \"ExecutableStepDTO\", \"stepId\": 2698638073, \"stepOrder\": 2, \"stepType\": {\"stepTypeId\": 3, \"stepTypeKey\": \"interval\", \"displayOrder\": 3}, \"description\": \"left: 23 laps | 11.50km | 1:13:18\", \"endCondition\": {\"conditionTypeId\": 3, \"conditionTypeKey\": \"distance\", \"displayOrder\": 3, \"displayable\": true}, \"endConditionValue\": 500, \"preferredEndConditionUnit\": {\"unitId\": 2, \"unitKey\": \"kilometer\", \"factor\": 100000}, \"targetType\": {\"workoutTargetTypeId\": 6, \"workoutTargetTypeKey\": \"pace.zone\", \"displayOrder\": 6}, \"targetValueOne\": 2.272725206613449, \"targetValueTwo\": 2.5000025000025}, {\"type\": \"ExecutableStepDTO\", \"stepId\": 2698638074, \"stepOrder\": 3, \"stepType\": {\"stepTypeId\": 3, \"stepTypeKey\": \"interval\", \"displayOrder\": 3}, \"description\": \"left: 22 laps | 11.00km | 1:10:26\", \"endCondition\": {\"conditionTypeId\": 3, \"conditionTypeKey\": \"distance\", \"displayOrder\": 3, \"displayable\": true}, \"endConditionValue\": 500, \"preferredEndConditionUnit\": {\"unitId\": 2, \"unitKey\": \"kilometer\", \"factor\": 100000}, \"targetType\": {\"workoutTargetTypeId\": 6, \"workoutTargetTypeKey\": \"pace.zone\", \"displayOrder\": 6}, \"targetValueOne\": 2.2904716131025307, \"targetValueTwo\": 2.5214925145139397}, {\"type\": \"ExecutableStepDTO\", \"stepId\": 2698638075, \"stepOrder\": 4, \"stepType\": {\"stepTypeId\": 3, \"stepTypeKey\": \"interval\", \"displayOrder\": 3}, \"description\": \"left: 21 laps | 10.50km | 1:07:32\", \"endCondition\": {\"conditionTypeId\": 3, \"conditionTypeKey\": \"distance\", \"displayOrder\": 3, \"displayable\": true}, \"endConditionValue\": 500, \"preferredEndConditionUnit\": {\"unitId\": 2, \"unitKey\": \"kilometer\", \"factor\": 100000}, \"targetType\": {\"workoutTargetTypeId\": 6, \"workoutTargetTypeKey\": \"pace.zone\", \"displayOrder\": 6}, \"targetValueOne\": 2.3084973436750658, \"targetValueTwo\": 2.543355188615683}, {\"type\": \"ExecutableStepDTO\", \"stepId\": 2698638076, \"stepOrder\": 5, \"stepType\": {\"stepTypeId\": 3, \"stepTypeKey\": \"interval\", \"displayOrder\": 3}, \"description\": \"left: 20 laps | 10.00km | 1:04:36\", \"endCondition\": {\"conditionTypeId\": 3, \"conditionTypeKey\": \"distance\", \"displayOrder\": 3, \"displayable\": true}, \"endConditionValue\": 500, \"preferredEndConditionUnit\": {\"unitId\": 2, \"unitKey\": \"kilometer\", \"factor\": 100000}, \"targetType\": {\"workoutTargetTypeId\": 6, \"workoutTargetTypeKey\": \"pace.zone\", \"displayOrder\": 6}, \"targetValueOne\": 2.3268090453813226, \"targetValueTwo\": 2.5656003005577426}, {\"type\": \"ExecutableStepDTO\", \"stepId\": 2698638077, \"stepOrder\": 6, \"stepType\": {\"stepTypeId\": 3, \"stepTypeKey\": \"interval\", \"displayOrder\": 3}, \"description\": \"left: 19 laps | 9.50km | 1:01:38\", \"endCondition\": {\"conditionTypeId\": 3, \"conditionTypeKey\": \"distance\", \"displayOrder\": 3, \"displayable\": true}, \"endConditionValue\": 500, \"preferredEndConditionUnit\": {\"unitId\": 2, \"unitKey\": \"kilometer\", \"factor\": 100000}, \"targetType\": {\"workoutTargetTypeId\": 6, \"workoutTargetTypeKey\": \"pace.zone\", \"displayOrder\": 6}, \"targetValueOne\": 2.3454135778635945, \"targetValueTwo\": 2.5882379737051964}, {\"type\": \"ExecutableStepDTO\", \"stepId\": 2698638078, \"stepOrder\": 7, \"stepType\": {\"stepTypeId\": 3, \"stepTypeKey\": \"interval\", \"displayOrder\": 3}, \"description\": \"left: 18 laps | 9.00km | 58:39\", \"endCondition\": {\"conditionTypeId\": 3, \"conditionTypeKey\": \"distance\", \"displayOrder\": 3, \"displayable\": true}, \"endConditionValue\": 500, \"preferredEndConditionUnit\": {\"unitId\": 2, \"unitKey\": \"kilometer\", \"factor\": 100000}, \"targetType\": {\"workoutTargetTypeId\": 6, \"workoutTargetTypeKey\": \"pace.zone\", \"displayOrder\": 6}, \"targetValueOne\": 2.3643180219238484, \"targetValueTwo\": 2.6112786918994053}, {\"type\": \"ExecutableStepDTO\", \"stepId\": 2698638079, \"stepOrder\": 8, \"stepType\": {\"stepTypeId\": 3, \"stepTypeKey\": \"interval\", \"displayOrder\": 3}, \"description\": \"left: 17 laps | 8.50km | 55:38\", \"endCondition\": {\"conditionTypeId\": 3, \"conditionTypeKey\": \"distance\", \"displayOrder\": 3, \"displayable\": true}, \"endConditionValue\": 500, \"preferredEndConditionUnit\": {\"unitId\": 2, \"unitKey\": \"kilometer\", \"factor\": 100000}, \"targetType\": {\"workoutTargetTypeId\": 6, \"workoutTargetTypeKey\": \"pace.zone\", \"displayOrder\": 6}, \"targetValueOne\": 2.3835296885090727, \"targetValueTwo\": 2.6347333156470873}, {\"type\": \"ExecutableStepDTO\", \"stepId\": 2698638080, \"stepOrder\": 9, \"stepType\": {\"stepTypeId\": 3, \"stepTypeKey\": \"interval\", \"displayOrder\": 3}, \"description\": \"left: 16 laps | 8.00km | 52:35\", \"endCondition\": {\"conditionTypeId\": 3, \"conditionTypeKey\": \"distance\", \"displayOrder\": 3, \"displayable\": true}, \"endConditionValue\": 500, \"preferredEndConditionUnit\": {\"unitId\": 2, \"unitKey\": \"kilometer\", \"factor\": 100000}, \"targetType\": {\"workoutTargetTypeId\": 6, \"workoutTargetTypeKey\": \"pace.zone\", \"displayOrder\": 6}, \"targetValueOne\": 2.403056128138293, \"targetValueTwo\": 2.6586130991897607}, {\"type\": \"ExecutableStepDTO\", \"stepId\": 2698638081, \"stepOrder\": 10, \"stepType\": {\"stepTypeId\": 3, \"stepTypeKey\": \"interval\", \"displayOrder\": 3}, \"description\": \"left: 15 laps | 7.50km | 49:31\", \"endCondition\": {\"conditionTypeId\": 3, \"conditionTypeKey\": \"distance\", \"displayOrder\": 3, \"displayable\": true}, \"endConditionValue\": 500, \"preferredEndConditionUnit\": {\"unitId\": 2, \"unitKey\": \"kilometer\", \"factor\": 100000}, \"targetType\": {\"workoutTargetTypeId\": 6, \"workoutTargetTypeKey\": \"pace.zone\", \"displayOrder\": 6}, \"targetValueOne\": 2.4229051407967797, \"targetValueTwo\": 2.682929708509931}, {\"type\": \"ExecutableStepDTO\", \"stepId\": 2698638082, \"stepOrder\": 11, \"stepType\": {\"stepTypeId\": 3, \"stepTypeKey\": \"interval\", \"displayOrder\": 3}, \"description\": \"left: 14 laps | 7.00km | 46:24\", \"endCondition\": {\"conditionTypeId\": 3, \"conditionTypeKey\": \"distance\", \"displayOrder\": 3, \"displayable\": true}, \"endConditionValue\": 500, \"preferredEndConditionUnit\": {\"unitId\": 2, \"unitKey\": \"kilometer\", \"factor\": 100000}, \"targetType\": {\"workoutTargetTypeId\": 6, \"workoutTargetTypeKey\": \"pace.zone\", \"displayOrder\": 6}, \"targetValueOne\": 2.4430847863246954, \"targetValueTwo\": 2.7076952403345373}, {\"type\": \"ExecutableStepDTO\", \"stepId\": 2698638083, \"stepOrder\": 12, \"stepType\": {\"stepTypeId\": 3, \"stepTypeKey\": \"interval\", \"displayOrder\": 3}, \"description\": \"left: 13 laps | 6.50km | 43:17\", \"endCondition\": {\"conditionTypeId\": 3, \"conditionTypeKey\": \"distance\", \"displayOrder\": 3, \"displayable\": true}, \"endConditionValue\": 500, \"preferredEndConditionUnit\": {\"unitId\": 2, \"unitKey\": \"kilometer\", \"factor\": 100000}, \"targetType\": {\"workoutTargetTypeId\": 6, \"workoutTargetTypeKey\": \"pace.zone\", \"displayOrder\": 6}, \"targetValueOne\": 2.4636033953292413, \"targetValueTwo\": 2.7329222422007122}, {\"type\": \"ExecutableStepDTO\", \"stepId\": 2698638084, \"stepOrder\": 13, \"stepType\": {\"stepTypeId\": 3, \"stepTypeKey\": \"interval\", \"displayOrder\": 3}, \"description\": \"left: 12 laps | 6.00km | 40:07\", \"endCondition\": {\"conditionTypeId\": 3, \"conditionTypeKey\": \"distance\", \"displayOrder\": 3, \"displayable\": true}, \"endConditionValue\": 500, \"preferredEndConditionUnit\": {\"unitId\": 2, \"unitKey\": \"kilometer\", \"factor\": 100000}, \"targetType\": {\"workoutTargetTypeId\": 6, \"workoutTargetTypeKey\": \"pace.zone\", \"displayOrder\": 6}, \"targetValueOne\": 2.4844695806513486, \"targetValueTwo\": 2.758623733653775}, {\"type\": \"ExecutableStepDTO\", \"stepId\": 2698638085, \"stepOrder\": 14, \"stepType\": {\"stepTypeId\": 3, \"stepTypeKey\": \"interval\", \"displayOrder\": 3}, \"description\": \"left: 11 laps | 5.50km | 36:56\", \"endCondition\": {\"conditionTypeId\": 3, \"conditionTypeKey\": \"distance\", \"displayOrder\": 3, \"displayable\": true}, \"endConditionValue\": 500, \"preferredEndConditionUnit\": {\"unitId\": 2, \"unitKey\": \"kilometer\", \"factor\": 100000}, \"targetType\": {\"workoutTargetTypeId\": 6, \"workoutTargetTypeKey\": \"pace.zone\", \"displayOrder\": 6}, \"targetValueOne\": 2.5056922494200693, \"targetValueTwo\": 2.7848132286527103}, {\"type\": \"ExecutableStepDTO\", \"stepId\": 2698638086, \"stepOrder\": 15, \"stepType\": {\"stepTypeId\": 3, \"stepTypeKey\": \"interval\", \"displayOrder\": 3}, \"description\": \"left: 10 laps | 5.00km | 33:43\", \"endCondition\": {\"conditionTypeId\": 3, \"conditionTypeKey\": \"distance\", \"displayOrder\": 3, \"displayable\": true}, \"endConditionValue\": 500, \"preferredEndConditionUnit\": {\"unitId\": 2, \"unitKey\": \"kilometer\", \"factor\": 100000}, \"targetType\": {\"workoutTargetTypeId\": 6, \"workoutTargetTypeKey\": \"pace.zone\", \"displayOrder\": 6}, \"targetValueOne\": 2.527280615730107, \"targetValueTwo\": 2.811504759264138}, {\"type\": \"ExecutableStepDTO\", \"stepId\": 2698638087, \"stepOrder\": 16, \"stepType\": {\"stepTypeId\": 3, \"stepTypeKey\": \"interval\", \"displayOrder\": 3}, \"description\": \"left: 9 laps | 4.50km | 30:28\", \"endCondition\": {\"conditionTypeId\": 3, \"conditionTypeKey\": \"distance\", \"displayOrder\": 3, \"displayable\": true}, \"endConditionValue\": 500, \"preferredEndConditionUnit\": {\"unitId\": 2, \"unitKey\": \"kilometer\", \"factor\": 100000}, \"targetType\": {\"workoutTargetTypeId\": 6, \"workoutTargetTypeKey\": \"pace.zone\", \"displayOrder\": 6}, \"targetValueOne\": 2.5492442139804075, \"targetValueTwo\": 2.8387129007320677}, {\"type\": \"ExecutableStepDTO\", \"stepId\": 2698638088, \"stepOrder\": 17, \"stepType\": {\"stepTypeId\": 3, \"stepTypeKey\": \"interval\", \"displayOrder\": 3}, \"description\": \"left: 8 laps | 4.00km | 27:12\", \"endCondition\": {\"conditionTypeId\": 3, \"conditionTypeKey\": \"distance\", \"displayOrder\": 3, \"displayable\": true}, \"endConditionValue\": 500, \"preferredEndConditionUnit\": {\"unitId\": 2, \"unitKey\": \"kilometer\", \"factor\": 100000}, \"targetType\": {\"workoutTargetTypeId\": 6, \"workoutTargetTypeKey\": \"pace.zone\", \"displayOrder\": 6}, \"targetValueOne\": 2.571592912914362, \"targetValueTwo\": 2.8664527980175403}, {\"type\": \"ExecutableStepDTO\", \"stepId\": 2698638089, \"stepOrder\": 18, \"stepType\": {\"stepTypeId\": 3, \"stepTypeKey\": \"interval\", \"displayOrder\": 3}, \"description\": \"left: 7 laps | 3.50km | 23:54\", \"endCondition\": {\"conditionTypeId\": 3, \"conditionTypeKey\": \"distance\", \"displayOrder\": 3, \"displayable\": true}, \"endConditionValue\": 500, \"preferredEndConditionUnit\": {\"unitId\": 2, \"unitKey\": \"kilometer\", \"factor\": 100000}, \"targetType\": {\"workoutTargetTypeId\": 6, \"workoutTargetTypeKey\": \"pace.zone\", \"displayOrder\": 6}, \"targetValueOne\": 2.5943369304050723, \"targetValueTwo\": 2.894740193909698}, {\"type\": \"ExecutableStepDTO\", \"stepId\": 2698638090, \"stepOrder\": 19, \"stepType\": {\"stepTypeId\": 3, \"stepTypeKey\": \"interval\", \"displayOrder\": 3}, \"description\": \"left: 6 laps | 3.00km | 20:34\", \"endCondition\": {\"conditionTypeId\": 3, \"conditionTypeKey\": \"distance\", \"displayOrder\": 3, \"displayable\": true}, \"endConditionValue\": 500, \"preferredEndConditionUnit\": {\"unitId\": 2, \"unitKey\": \"kilometer\", \"factor\": 100000}, \"targetType\": {\"workoutTargetTypeId\": 6, \"workoutTargetTypeKey\": \"pace.zone\", \"displayOrder\": 6}, \"targetValueOne\": 2.6174868490322107, \"targetValueTwo\": 2.9235914588179184}, {\"type\": \"ExecutableStepDTO\", \"stepId\": 2698638091, \"stepOrder\": 20, \"stepType\": {\"stepTypeId\": 3, \"stepTypeKey\": \"interval\", \"displayOrder\": 3}, \"description\": \"left: 5 laps | 2.50km | 17:12\", \"endCondition\": {\"conditionTypeId\": 3, \"conditionTypeKey\": \"distance\", \"displayOrder\": 3, \"displayable\": true}, \"endConditionValue\": 500, \"preferredEndConditionUnit\": {\"unitId\": 2, \"unitKey\": \"kilometer\", \"factor\": 100000}, \"targetType\": {\"workoutTargetTypeId\": 6, \"workoutTargetTypeKey\": \"pace.zone\", \"displayOrder\": 6}, \"targetValueOne\": 2.6410536325003644, \"targetValueTwo\": 2.953023622363473}, {\"type\": \"ExecutableStepDTO\", \"stepId\": 2698638092, \"stepOrder\": 21, \"stepType\": {\"stepTypeId\": 3, \"stepTypeKey\": \"interval\", \"displayOrder\": 3}, \"description\": \"left: 4 laps | 2.00km | 13:49\", \"endCondition\": {\"conditionTypeId\": 3, \"conditionTypeKey\": \"distance\", \"displayOrder\": 3, \"displayable\": true}, \"endConditionValue\": 500, \"preferredEndConditionUnit\": {\"unitId\": 2, \"unitKey\": \"kilometer\", \"factor\": 100000}, \"targetType\": {\"workoutTargetTypeId\": 6, \"workoutTargetTypeKey\": \"pace.zone\", \"displayOrder\": 6}, \"targetValueOne\": 2.6650486429523856, \"targetValueTwo\": 2.983054406898818}, {\"type\": \"ExecutableStepDTO\", \"stepId\": 2698638093, \"stepOrder\": 22, \"stepType\": {\"stepTypeId\": 3, \"stepTypeKey\": \"interval\", \"displayOrder\": 3}, \"description\": \"left: 3 laps | 1.50km | 10:24\", \"endCondition\": {\"conditionTypeId\": 3, \"conditionTypeKey\": \"distance\", \"displayOrder\": 3, \"displayable\": true}, \"endConditionValue\": 500, \"preferredEndConditionUnit\": {\"unitId\": 2, \"unitKey\": \"kilometer\", \"factor\": 100000}, \"targetType\": {\"workoutTargetTypeId\": 6, \"workoutTargetTypeKey\": \"pace.zone\", \"displayOrder\": 6}, \"targetValueOne\": 2.689483659235184, \"targetValueTwo\": 3.013702263093139}, {\"type\": \"ExecutableStepDTO\", \"stepId\": 2698638094, \"stepOrder\": 23, \"stepType\": {\"stepTypeId\": 3, \"stepTypeKey\": \"interval\", \"displayOrder\": 3}, \"description\": \"left: 2 laps | 1.00km | 06:58\", \"endCondition\": {\"conditionTypeId\": 3, \"conditionTypeKey\": \"distance\", \"displayOrder\": 3, \"displayable\": true}, \"endConditionValue\": 500, \"preferredEndConditionUnit\": {\"unitId\": 2, \"unitKey\": \"kilometer\", \"factor\": 100000}, \"targetType\": {\"workoutTargetTypeId\": 6, \"workoutTargetTypeKey\": \"pace.zone\", \"displayOrder\": 6}, \"targetValueOne\": 2.7143708961796564, \"targetValueTwo\": 3.0449864077343096}, {\"type\": \"ExecutableStepDTO\", \"stepId\": 2698638095, \"stepOrder\": 24, \"stepType\": {\"stepTypeId\": 3, \"stepTypeKey\": \"interval\", \"displayOrder\": 3}, \"description\": \"left: 1 laps | 0.50km | 03:30\", \"endCondition\": {\"conditionTypeId\": 3, \"conditionTypeKey\": \"distance\", \"displayOrder\": 3, \"displayable\": true}, \"endConditionValue\": 500, \"preferredEndConditionUnit\": {\"unitId\": 2, \"unitKey\": \"kilometer\", \"factor\": 100000}, \"targetType\": {\"workoutTargetTypeId\": 6, \"workoutTargetTypeKey\": \"pace.zone\", \"displayOrder\": 6}, \"targetValueOne\": 2.7397230249610685, \"targetValueTwo\": 3.0769268639099865}]}], \"shared\": false}'"
     },
     "execution_count": 508,
     "metadata": {},
     "output_type": "execute_result"
    }
   ],
   "source": [
    "json.dumps(workout)"
   ],
   "metadata": {
    "collapsed": false,
    "pycharm": {
     "name": "#%%\n"
    }
   }
  }
 ]
}