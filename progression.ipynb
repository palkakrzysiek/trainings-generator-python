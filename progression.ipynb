{
 "nbformat": 4,
 "nbformat_minor": 0,
 "metadata": {
  "colab": {
   "name": "Untitled1.ipynb",
   "provenance": [],
   "authorship_tag": "ABX9TyN5zFkWUezIuqnA/TzRg2WD",
   "include_colab_link": true
  },
  "kernelspec": {
   "name": "python3",
   "language": "python",
   "display_name": "Python 3 (ipykernel)"
  },
  "language_info": {
   "name": "python"
  }
 },
 "cells": [
  {
   "cell_type": "markdown",
   "metadata": {
    "id": "view-in-github",
    "colab_type": "text"
   },
   "source": [
    "<a href=\"https://colab.research.google.com/github/palkakrzysiek/trainings-generator-python/blob/main/progression.ipynb\" target=\"_parent\"><img src=\"https://colab.research.google.com/assets/colab-badge.svg\" alt=\"Open In Colab\"/></a>"
   ]
  },
  {
   "cell_type": "markdown",
   "source": [
    "Plugin to upload/download workouts\n",
    "https://chrome.google.com/webstore/detail/share-your-garmin-connect/kdpolhnlnkengkmfncjdbfdehglepmff"
   ],
   "metadata": {
    "collapsed": false,
    "pycharm": {
     "name": "#%% md\n"
    }
   }
  },
  {
   "cell_type": "code",
   "metadata": {
    "id": "GnnBP31GOndp",
    "outputId": "91763c34-15a6-4532-ebe4-17556cbb69d0",
    "colab": {
     "base_uri": "https://localhost:8080/"
    }
   },
   "source": [
    "import json\n",
    "import matplotlib.pyplot as plt\n",
    "import numpy as np\n",
    "import pandas as pd\n"
   ],
   "execution_count": 217,
   "outputs": []
  },
  {
   "cell_type": "code",
   "execution_count": 218,
   "outputs": [],
   "source": [
    "\n",
    "def warm_up(time, step_order):\n",
    "    return {\n",
    "        \"type\": \"ExecutableStepDTO\",\n",
    "        \"stepId\": 2698638070,\n",
    "        \"stepOrder\": step_order,\n",
    "        \"stepType\": {\n",
    "            \"stepTypeId\": 1,\n",
    "            \"stepTypeKey\": \"warmup\",\n",
    "            \"displayOrder\": 1\n",
    "        },\n",
    "        \"description\": \"Easy\",\n",
    "        \"endCondition\": {\n",
    "            \"conditionTypeId\": 2,\n",
    "            \"conditionTypeKey\": \"time\",\n",
    "            \"displayOrder\": 2,\n",
    "            \"displayable\": True\n",
    "        },\n",
    "        \"endConditionValue\": time,\n",
    "        \"targetType\": {\n",
    "            \"workoutTargetTypeId\": 1,\n",
    "            \"workoutTargetTypeKey\": \"no.target\",\n",
    "            \"displayOrder\": 1\n",
    "        }\n",
    "    }\n",
    "\n",
    "\n",
    "def run(distance, min_speed_mps, max_speed_mps, description, step_order):\n",
    "    return {\n",
    "        \"type\": \"ExecutableStepDTO\",\n",
    "        \"stepId\": 2698638071 + step_order,\n",
    "        \"stepOrder\": step_order,\n",
    "        \"stepType\": {\n",
    "            \"stepTypeId\": 3,\n",
    "            \"stepTypeKey\": \"interval\",\n",
    "            \"displayOrder\": 3\n",
    "        },\n",
    "        \"description\": description,\n",
    "        \"endCondition\": {\n",
    "            \"conditionTypeId\": 3,\n",
    "            \"conditionTypeKey\": \"distance\",\n",
    "            \"displayOrder\": 3,\n",
    "            \"displayable\": True\n",
    "        },\n",
    "        \"endConditionValue\": distance,\n",
    "        \"preferredEndConditionUnit\": {\n",
    "            \"unitId\": 2,\n",
    "            \"unitKey\": \"kilometer\",\n",
    "            \"factor\": 100000\n",
    "        },\n",
    "        \"targetType\": {\n",
    "            \"workoutTargetTypeId\": 6,\n",
    "            \"workoutTargetTypeKey\": \"pace.zone\",\n",
    "            \"displayOrder\": 6\n",
    "        },\n",
    "        \"targetValueOne\": min_speed_mps,\n",
    "        \"targetValueTwo\": max_speed_mps\n",
    "    }"
   ],
   "metadata": {
    "collapsed": false,
    "pycharm": {
     "name": "#%%\n"
    }
   }
  },
  {
   "cell_type": "code",
   "execution_count": 219,
   "outputs": [],
   "source": [
    "def workout_template(name, description, steps, estimated_duration_in_secs, estimated_distance_in_meters):\n",
    "    return {\n",
    "    \"workoutId\": 388473607,\n",
    "    \"ownerId\": 66888980,\n",
    "    \"workoutName\": name,\n",
    "    \"description\": description,\n",
    "    \"updatedDate\": \"2021-09-12T14:08:55.0\",\n",
    "    \"createdDate\": \"2021-09-12T14:08:55.0\",\n",
    "    \"sportType\": {\n",
    "        \"sportTypeId\": 1,\n",
    "        \"sportTypeKey\": \"running\",\n",
    "        \"displayOrder\": 1\n",
    "    },\n",
    "    \"estimatedDurationInSecs\": estimated_duration_in_secs,\n",
    "    \"estimatedDistanceInMeters\": estimated_distance_in_meters,\n",
    "    \"workoutSegments\": [\n",
    "        {\n",
    "            \"segmentOrder\": 1,\n",
    "            \"sportType\": {\n",
    "                \"sportTypeId\": 1,\n",
    "                \"sportTypeKey\": \"running\",\n",
    "                \"displayOrder\": 1\n",
    "            },\n",
    "            \"workoutSteps\": steps\n",
    "        }\n",
    "    ],\n",
    "    \"shared\": False\n",
    "}\n",
    "\n",
    "def minpkm_to_mps(val):\n",
    "    return 1000 / val / 60\n",
    "\n",
    "\n",
    "def format_secs(value):\n",
    "    h = int(value / 60 / 60)\n",
    "    m = int((value / 60) % 60)\n",
    "    s = int(value % 60)\n",
    "    if h > 0:\n",
    "        return \"{:d}:{:02d}:{:02d}\".format(h,m,s)\n",
    "    else:\n",
    "        return \"{:02d}:{:02d}\".format(m,s)\n",
    "\n",
    "\n",
    "def format_pace(input):\n",
    "    min = int(input)\n",
    "    sec = int((input % 1) * 60)\n",
    "    return \"{:d}:{:02d}\".format(min, sec)\n",
    "\n",
    "\n",
    "def format_meters_to_km(input):\n",
    "    return \"{:.2f}\".format(input/1000.0)\n",
    "\n",
    "# %matplotlib notebook\n",
    "def plot_splits(df):\n",
    "\n",
    "    print(df)\n",
    "\n",
    "    ax = df.plot.area(x='covered_distance', y=['min_pace', 'pace', 'max_pace'], stacked=False, color={'min_pace':'#c9fbff', 'pace':'#3cff2e', 'max_pace':'#6e001a'})\n",
    "\n",
    "    plt.xlim(df['covered_distance'].min(), df['covered_distance'].max() + 0.2)\n",
    "    plt.ylim(max(0, df['pace'].min() - .2), df['pace'].max() + .2)\n",
    "    plt.draw() # needed to recalculate labels values\n",
    "    ax.set_xticklabels([ format_meters_to_km(float(x.get_text())) for x in ax.get_xticklabels()])\n",
    "    ax.set_yticklabels([ format_pace(float(y.get_text())) for y in ax.get_yticklabels()])\n",
    "    plt.show()\n",
    "\n",
    "\n",
    "\n",
    "def progression_df( target_distance, split_distance, start_pace_minpkm, end_pace_minpkm, pace_toleration):\n",
    "\n",
    "    splits_number = int(target_distance/split_distance)\n",
    "    total_distance = split_distance * splits_number\n",
    "\n",
    "    slope = (end_pace_minpkm - start_pace_minpkm) / (total_distance - split_distance)\n",
    "    # - split_distance to have the last split at end disntance\n",
    "\n",
    "    x = np.arange(0, total_distance, split_distance)\n",
    "    y = start_pace_minpkm + slope * x\n",
    "\n",
    "    df = pd.DataFrame(np.array([x, y]).transpose(), columns=['covered_distance', 'pace'])\n",
    "\n",
    "    df['min_pace'] = df['pace'] + pace_toleration\n",
    "    df['max_pace'] = df['pace'] - pace_toleration\n",
    "\n",
    "    df['min_speed_mps'] = df['min_pace'].apply(minpkm_to_mps)\n",
    "    df['max_speed_mps'] = df['max_pace'].apply(minpkm_to_mps)\n",
    "\n",
    "    df['split_distance'] = split_distance\n",
    "\n",
    "    plot_splits(df)\n",
    "\n",
    "\n",
    "    return df"
   ],
   "metadata": {
    "collapsed": false,
    "pycharm": {
     "name": "#%%\n"
    }
   }
  },
  {
   "cell_type": "code",
   "execution_count": 220,
   "outputs": [],
   "source": [
    "def progression( target_distance, split_distance, start_pace_minpkm, end_pace_minpkm, pace_toleration):\n",
    "\n",
    "    df = progression_df(\n",
    "        target_distance,\n",
    "        split_distance,\n",
    "        start_pace_minpkm,\n",
    "        end_pace_minpkm,\n",
    "        pace_toleration,\n",
    "    )\n",
    "\n",
    "    df['mps'] = 1000 / df['pace'] / 60\n",
    "\n",
    "    df['lap'] = df.index + 1\n",
    "\n",
    "    df['lap_time_sec'] = split_distance / df['mps']\n",
    "\n",
    "    df['total_time'] = df['lap_time_sec'].cumsum()\n",
    "\n",
    "    df['time_left'] = df['total_time'].values[::-1]\n",
    "\n",
    "    df['formatted_time_left'] = df['time_left'].apply(format_secs)\n",
    "\n",
    "    df['laps_left'] = range(len(df), 0, -1)\n",
    "\n",
    "    df['formatted_pace'] = df['pace'].apply(format_pace)\n",
    "\n",
    "    total_distance = df['split_distance'].sum()\n",
    "\n",
    "    df['distance_left'] = total_distance - df['covered_distance']\n",
    "\n",
    "    df['formatted_distance_left'] = df['distance_left'].apply(lambda dis: format_meters_to_km(dis))\n",
    "\n",
    "\n",
    "    df['formatted_min_pace'] = df['min_pace'].apply(format_pace)\n",
    "    df['formatted_max_pace'] = df['max_pace'].apply(format_pace)\n",
    "\n",
    "    df['split_time'] = split_distance\n",
    "\n",
    "    df['description'] = df.apply(lambda row: \">{:s}< | {:d} lap | {:s} | {:s}km\".format(row['formatted_pace'], row['laps_left'], row['formatted_time_left'], row['formatted_distance_left']), axis=1)\n",
    "\n",
    "\n",
    "\n",
    "    steps = list(df.apply(lambda row: run(distance=split_distance, min_speed_mps=row['min_speed_mps'], max_speed_mps=row['max_speed_mps'], description=row['description'], step_order=row['lap'] + 1), axis=1).values)\n",
    "\n",
    "    steps.insert(0, warm_up(\n",
    "        time=120,\n",
    "        step_order=1\n",
    "    ))\n",
    "\n",
    "\n",
    "    print(steps)\n",
    "\n",
    "    name = \"{:s}km {:s}->{:s}\".format(format_meters_to_km(total_distance), format_pace(start_pace_minpkm), format_pace(end_pace_minpkm))\n",
    "    print(name)\n",
    "    # description = str(split_distance) + \"m * \" + str(splits_number) + \" splits, est. time \" + df['formatted_time_left'][0]\n",
    "    # print(description)\n",
    "    description = 'progression' # TODO\n",
    "\n",
    "\n",
    "    est_time_sec = int(df['time_left'][0])\n",
    "\n",
    "    return workout_template(\n",
    "        name=name,\n",
    "        description=description,\n",
    "        steps=steps,\n",
    "        estimated_duration_in_secs=est_time_sec,\n",
    "        estimated_distance_in_meters=total_distance\n",
    "    )"
   ],
   "metadata": {
    "collapsed": false,
    "pycharm": {
     "name": "#%%\n"
    }
   }
  },
  {
   "cell_type": "code",
   "execution_count": 221,
   "outputs": [
    {
     "name": "stdout",
     "output_type": "stream",
     "text": [
      "    covered_distance  pace  min_pace  max_pace  min_speed_mps  max_speed_mps  \\\n",
      "0               0.00  6.75   7.08334   6.41666       2.352939       2.597405   \n",
      "1             333.33  6.70   7.03334   6.36666       2.369666       2.617804   \n",
      "2             666.66  6.65   6.98334   6.31666       2.386633       2.638525   \n",
      "3             999.99  6.60   6.93334   6.26666       2.403844       2.659577   \n",
      "4            1333.32  6.55   6.88334   6.21666       2.421305       2.680968   \n",
      "5            1666.65  6.50   6.83334   6.16666       2.439022       2.702706   \n",
      "6            1999.98  6.45   6.78334   6.11666       2.457000       2.724799   \n",
      "7            2333.31  6.40   6.73334   6.06666       2.475245       2.747256   \n",
      "8            2666.64  6.35   6.68334   6.01666       2.493763       2.770086   \n",
      "9            2999.97  6.30   6.63334   5.96666       2.512560       2.793299   \n",
      "10           3333.30  6.25   6.58334   5.91666       2.531643       2.816905   \n",
      "11           3666.63  6.20   6.53334   5.86666       2.551018       2.840912   \n",
      "12           3999.96  6.15   6.48334   5.81666       2.570691       2.865333   \n",
      "13           4333.29  6.10   6.43334   5.76666       2.590671       2.890177   \n",
      "14           4666.62  6.05   6.38334   5.71666       2.610963       2.915455   \n",
      "15           4999.95  6.00   6.33334   5.66666       2.631576       2.941180   \n",
      "\n",
      "    split_distance  \n",
      "0           333.33  \n",
      "1           333.33  \n",
      "2           333.33  \n",
      "3           333.33  \n",
      "4           333.33  \n",
      "5           333.33  \n",
      "6           333.33  \n",
      "7           333.33  \n",
      "8           333.33  \n",
      "9           333.33  \n",
      "10          333.33  \n",
      "11          333.33  \n",
      "12          333.33  \n",
      "13          333.33  \n",
      "14          333.33  \n",
      "15          333.33  \n"
     ]
    },
    {
     "name": "stderr",
     "output_type": "stream",
     "text": [
      "/usr/local/lib/python3.7/site-packages/ipykernel_launcher.py:63: UserWarning: FixedFormatter should only be used together with FixedLocator\n",
      "/usr/local/lib/python3.7/site-packages/ipykernel_launcher.py:64: UserWarning: FixedFormatter should only be used together with FixedLocator\n"
     ]
    },
    {
     "data": {
      "text/plain": "<Figure size 432x288 with 1 Axes>",
      "image/png": "[encoded data removed]"
     },
     "metadata": {
      "needs_background": "light"
     },
     "output_type": "display_data"
    },
    {
     "name": "stdout",
     "output_type": "stream",
     "text": [
      "[{'type': 'ExecutableStepDTO', 'stepId': 2698638070, 'stepOrder': 1, 'stepType': {'stepTypeId': 1, 'stepTypeKey': 'warmup', 'displayOrder': 1}, 'description': 'Easy', 'endCondition': {'conditionTypeId': 2, 'conditionTypeKey': 'time', 'displayOrder': 2, 'displayable': True}, 'endConditionValue': 120, 'targetType': {'workoutTargetTypeId': 1, 'workoutTargetTypeKey': 'no.target', 'displayOrder': 1}}, {'type': 'ExecutableStepDTO', 'stepId': 2698638073, 'stepOrder': 2, 'stepType': {'stepTypeId': 3, 'stepTypeKey': 'interval', 'displayOrder': 3}, 'description': '>6:45< | 16 lap | 33:59 | 5.33km', 'endCondition': {'conditionTypeId': 3, 'conditionTypeKey': 'distance', 'displayOrder': 3, 'displayable': True}, 'endConditionValue': 333.33, 'preferredEndConditionUnit': {'unitId': 2, 'unitKey': 'kilometer', 'factor': 100000}, 'targetType': {'workoutTargetTypeId': 6, 'workoutTargetTypeKey': 'pace.zone', 'displayOrder': 6}, 'targetValueOne': 2.3529389619398007, 'targetValueTwo': 2.5974052960055025}, {'type': 'ExecutableStepDTO', 'stepId': 2698638074, 'stepOrder': 3, 'stepType': {'stepTypeId': 3, 'stepTypeKey': 'interval', 'displayOrder': 3}, 'description': '>6:42< | 15 lap | 31:59 | 5.00km', 'endCondition': {'conditionTypeId': 3, 'conditionTypeKey': 'distance', 'displayOrder': 3, 'displayable': True}, 'endConditionValue': 333.33, 'preferredEndConditionUnit': {'unitId': 2, 'unitKey': 'kilometer', 'factor': 100000}, 'targetType': {'workoutTargetTypeId': 6, 'workoutTargetTypeKey': 'pace.zone', 'displayOrder': 6}, 'targetValueOne': 2.3696660003165873, 'targetValueTwo': 2.617803788276218}, {'type': 'ExecutableStepDTO', 'stepId': 2698638075, 'stepOrder': 4, 'stepType': {'stepTypeId': 3, 'stepTypeKey': 'interval', 'displayOrder': 3}, 'description': '>6:39< | 14 lap | 29:58 | 4.67km', 'endCondition': {'conditionTypeId': 3, 'conditionTypeKey': 'distance', 'displayOrder': 3, 'displayable': True}, 'endConditionValue': 333.33, 'preferredEndConditionUnit': {'unitId': 2, 'unitKey': 'kilometer', 'factor': 100000}, 'targetType': {'workoutTargetTypeId': 6, 'workoutTargetTypeKey': 'pace.zone', 'displayOrder': 6}, 'targetValueOne': 2.3866325664605568, 'targetValueTwo': 2.6385252121638123}, {'type': 'ExecutableStepDTO', 'stepId': 2698638076, 'stepOrder': 5, 'stepType': {'stepTypeId': 3, 'stepTypeKey': 'interval', 'displayOrder': 3}, 'description': '>6:35< | 13 lap | 27:56 | 4.33km', 'endCondition': {'conditionTypeId': 3, 'conditionTypeKey': 'distance', 'displayOrder': 3, 'displayable': True}, 'endConditionValue': 333.33, 'preferredEndConditionUnit': {'unitId': 2, 'unitKey': 'kilometer', 'factor': 100000}, 'targetType': {'workoutTargetTypeId': 6, 'workoutTargetTypeKey': 'pace.zone', 'displayOrder': 6}, 'targetValueOne': 2.403843842457844, 'targetValueTwo': 2.659577297422657}, {'type': 'ExecutableStepDTO', 'stepId': 2698638077, 'stepOrder': 6, 'stepType': {'stepTypeId': 3, 'stepTypeKey': 'interval', 'displayOrder': 3}, 'description': '>6:32< | 12 lap | 25:53 | 4.00km', 'endCondition': {'conditionTypeId': 3, 'conditionTypeKey': 'distance', 'displayOrder': 3, 'displayable': True}, 'endConditionValue': 333.33, 'preferredEndConditionUnit': {'unitId': 2, 'unitKey': 'kilometer', 'factor': 100000}, 'targetType': {'workoutTargetTypeId': 6, 'workoutTargetTypeKey': 'pace.zone', 'displayOrder': 6}, 'targetValueOne': 2.421305160963525, 'targetValueTwo': 2.680968022485815}, {'type': 'ExecutableStepDTO', 'stepId': 2698638078, 'stepOrder': 7, 'stepType': {'stepTypeId': 3, 'stepTypeKey': 'interval', 'displayOrder': 3}, 'description': '>6:30< | 11 lap | 23:49 | 3.67km', 'endCondition': {'conditionTypeId': 3, 'conditionTypeKey': 'distance', 'displayOrder': 3, 'displayable': True}, 'endConditionValue': 333.33, 'preferredEndConditionUnit': {'unitId': 2, 'unitKey': 'kilometer', 'factor': 100000}, 'targetType': {'workoutTargetTypeId': 6, 'workoutTargetTypeKey': 'pace.zone', 'displayOrder': 6}, 'targetValueOne': 2.4390220107102336, 'targetValueTwo': 2.702705624546621}, {'type': 'ExecutableStepDTO', 'stepId': 2698638079, 'stepOrder': 8, 'stepType': {'stepTypeId': 3, 'stepTypeKey': 'interval', 'displayOrder': 3}, 'description': '>6:27< | 10 lap | 21:44 | 3.33km', 'endCondition': {'conditionTypeId': 3, 'conditionTypeKey': 'distance', 'displayOrder': 3, 'displayable': True}, 'endConditionValue': 333.33, 'preferredEndConditionUnit': {'unitId': 2, 'unitKey': 'kilometer', 'factor': 100000}, 'targetType': {'workoutTargetTypeId': 6, 'workoutTargetTypeKey': 'pace.zone', 'displayOrder': 6}, 'targetValueOne': 2.457000042260401, 'targetValueTwo': 2.724798610134725}, {'type': 'ExecutableStepDTO', 'stepId': 2698638080, 'stepOrder': 9, 'stepType': {'stepTypeId': 3, 'stepTypeKey': 'interval', 'displayOrder': 3}, 'description': '>6:24< | 9 lap | 19:38 | 3.00km', 'endCondition': {'conditionTypeId': 3, 'conditionTypeKey': 'distance', 'displayOrder': 3, 'displayable': True}, 'endConditionValue': 333.33, 'preferredEndConditionUnit': {'unitId': 2, 'unitKey': 'kilometer', 'factor': 100000}, 'targetType': {'workoutTargetTypeId': 6, 'workoutTargetTypeKey': 'pace.zone', 'displayOrder': 6}, 'targetValueOne': 2.4752450740147784, 'targetValueTwo': 2.7472557662151273}, {'type': 'ExecutableStepDTO', 'stepId': 2698638081, 'stepOrder': 10, 'stepType': {'stepTypeId': 3, 'stepTypeKey': 'interval', 'displayOrder': 3}, 'description': '>6:20< | 8 lap | 17:31 | 2.67km', 'endCondition': {'conditionTypeId': 3, 'conditionTypeKey': 'distance', 'displayOrder': 3, 'displayable': True}, 'endConditionValue': 333.33, 'preferredEndConditionUnit': {'unitId': 2, 'unitKey': 'kilometer', 'factor': 100000}, 'targetType': {'workoutTargetTypeId': 6, 'workoutTargetTypeKey': 'pace.zone', 'displayOrder': 6}, 'targetValueOne': 2.493763098490675, 'targetValueTwo': 2.7700861718406333}, {'type': 'ExecutableStepDTO', 'stepId': 2698638082, 'stepOrder': 11, 'stepType': {'stepTypeId': 3, 'stepTypeKey': 'interval', 'displayOrder': 3}, 'description': '>6:17< | 7 lap | 15:23 | 2.33km', 'endCondition': {'conditionTypeId': 3, 'conditionTypeKey': 'distance', 'displayOrder': 3, 'displayable': True}, 'endConditionValue': 333.33, 'preferredEndConditionUnit': {'unitId': 2, 'unitKey': 'kilometer', 'factor': 100000}, 'targetType': {'workoutTargetTypeId': 6, 'workoutTargetTypeKey': 'pace.zone', 'displayOrder': 6}, 'targetValueOne': 2.512560288884132, 'targetValueTwo': 2.7932992103901793}, {'type': 'ExecutableStepDTO', 'stepId': 2698638083, 'stepOrder': 12, 'stepType': {'stepTypeId': 3, 'stepTypeKey': 'interval', 'displayOrder': 3}, 'description': '>6:15< | 6 lap | 13:14 | 2.00km', 'endCondition': {'conditionTypeId': 3, 'conditionTypeKey': 'distance', 'displayOrder': 3, 'displayable': True}, 'endConditionValue': 333.33, 'preferredEndConditionUnit': {'unitId': 2, 'unitKey': 'kilometer', 'factor': 100000}, 'targetType': {'workoutTargetTypeId': 6, 'workoutTargetTypeKey': 'pace.zone', 'displayOrder': 6}, 'targetValueOne': 2.5316430059311332, 'targetValueTwo': 2.816904582427698}, {'type': 'ExecutableStepDTO', 'stepId': 2698638084, 'stepOrder': 13, 'stepType': {'stepTypeId': 3, 'stepTypeKey': 'interval', 'displayOrder': 3}, 'description': '>6:12< | 5 lap | 11:04 | 1.67km', 'endCondition': {'conditionTypeId': 3, 'conditionTypeKey': 'distance', 'displayOrder': 3, 'displayable': True}, 'endConditionValue': 333.33, 'preferredEndConditionUnit': {'unitId': 2, 'unitKey': 'kilometer', 'factor': 100000}, 'targetType': {'workoutTargetTypeId': 6, 'workoutTargetTypeKey': 'pace.zone', 'displayOrder': 6}, 'targetValueOne': 2.5510178050838723, 'targetValueTwo': 2.8409123192185444}, {'type': 'ExecutableStepDTO', 'stepId': 2698638085, 'stepOrder': 14, 'stepType': {'stepTypeId': 3, 'stepTypeKey': 'interval', 'displayOrder': 3}, 'description': '>6:09< | 4 lap | 08:53 | 1.33km', 'endCondition': {'conditionTypeId': 3, 'conditionTypeKey': 'distance', 'displayOrder': 3, 'displayable': True}, 'endConditionValue': 333.33, 'preferredEndConditionUnit': {'unitId': 2, 'unitKey': 'kilometer', 'factor': 100000}, 'targetType': {'workoutTargetTypeId': 6, 'workoutTargetTypeKey': 'pace.zone', 'displayOrder': 6}, 'targetValueOne': 2.5706914440190807, 'targetValueTwo': 2.8653327969430338}, {'type': 'ExecutableStepDTO', 'stepId': 2698638086, 'stepOrder': 15, 'stepType': {'stepTypeId': 3, 'stepTypeKey': 'interval', 'displayOrder': 3}, 'description': '>6:05< | 3 lap | 06:41 | 1.00km', 'endCondition': {'conditionTypeId': 3, 'conditionTypeKey': 'distance', 'displayOrder': 3, 'displayable': True}, 'endConditionValue': 333.33, 'preferredEndConditionUnit': {'unitId': 2, 'unitKey': 'kilometer', 'factor': 100000}, 'targetType': {'workoutTargetTypeId': 6, 'workoutTargetTypeKey': 'pace.zone', 'displayOrder': 6}, 'targetValueOne': 2.590670890496487, 'targetValueTwo': 2.8901767516494243}, {'type': 'ExecutableStepDTO', 'stepId': 2698638087, 'stepOrder': 16, 'stepType': {'stepTypeId': 3, 'stepTypeKey': 'interval', 'displayOrder': 3}, 'description': '>6:02< | 2 lap | 04:28 | 0.67km', 'endCondition': {'conditionTypeId': 3, 'conditionTypeKey': 'distance', 'displayOrder': 3, 'displayable': True}, 'endConditionValue': 333.33, 'preferredEndConditionUnit': {'unitId': 2, 'unitKey': 'kilometer', 'factor': 100000}, 'targetType': {'workoutTargetTypeId': 6, 'workoutTargetTypeKey': 'pace.zone', 'displayOrder': 6}, 'targetValueOne': 2.6109633305866002, 'targetValueTwo': 2.9154552949915975}, {'type': 'ExecutableStepDTO', 'stepId': 2698638088, 'stepOrder': 17, 'stepType': {'stepTypeId': 3, 'stepTypeKey': 'interval', 'displayOrder': 3}, 'description': '>6:00< | 1 lap | 02:14 | 0.33km', 'endCondition': {'conditionTypeId': 3, 'conditionTypeKey': 'distance', 'displayOrder': 3, 'displayable': True}, 'endConditionValue': 333.33, 'preferredEndConditionUnit': {'unitId': 2, 'unitKey': 'kilometer', 'factor': 100000}, 'targetType': {'workoutTargetTypeId': 6, 'workoutTargetTypeKey': 'pace.zone', 'displayOrder': 6}, 'targetValueOne': 2.6315761772882342, 'targetValueTwo': 2.9411799307999185}]\n",
      "5.33km 6:45->6:00\n"
     ]
    },
    {
     "data": {
      "text/plain": "'{\"workoutId\": 388473607, \"ownerId\": 66888980, \"workoutName\": \"5.33km 6:45->6:00\", \"description\": \"progression\", \"updatedDate\": \"2021-09-12T14:08:55.0\", \"createdDate\": \"2021-09-12T14:08:55.0\", \"sportType\": {\"sportTypeId\": 1, \"sportTypeKey\": \"running\", \"displayOrder\": 1}, \"estimatedDurationInSecs\": 2039, \"estimatedDistanceInMeters\": 5333.28, \"workoutSegments\": [{\"segmentOrder\": 1, \"sportType\": {\"sportTypeId\": 1, \"sportTypeKey\": \"running\", \"displayOrder\": 1}, \"workoutSteps\": [{\"type\": \"ExecutableStepDTO\", \"stepId\": 2698638070, \"stepOrder\": 1, \"stepType\": {\"stepTypeId\": 1, \"stepTypeKey\": \"warmup\", \"displayOrder\": 1}, \"description\": \"Easy\", \"endCondition\": {\"conditionTypeId\": 2, \"conditionTypeKey\": \"time\", \"displayOrder\": 2, \"displayable\": true}, \"endConditionValue\": 120, \"targetType\": {\"workoutTargetTypeId\": 1, \"workoutTargetTypeKey\": \"no.target\", \"displayOrder\": 1}}, {\"type\": \"ExecutableStepDTO\", \"stepId\": 2698638073, \"stepOrder\": 2, \"stepType\": {\"stepTypeId\": 3, \"stepTypeKey\": \"interval\", \"displayOrder\": 3}, \"description\": \">6:45< | 16 lap | 33:59 | 5.33km\", \"endCondition\": {\"conditionTypeId\": 3, \"conditionTypeKey\": \"distance\", \"displayOrder\": 3, \"displayable\": true}, \"endConditionValue\": 333.33, \"preferredEndConditionUnit\": {\"unitId\": 2, \"unitKey\": \"kilometer\", \"factor\": 100000}, \"targetType\": {\"workoutTargetTypeId\": 6, \"workoutTargetTypeKey\": \"pace.zone\", \"displayOrder\": 6}, \"targetValueOne\": 2.3529389619398007, \"targetValueTwo\": 2.5974052960055025}, {\"type\": \"ExecutableStepDTO\", \"stepId\": 2698638074, \"stepOrder\": 3, \"stepType\": {\"stepTypeId\": 3, \"stepTypeKey\": \"interval\", \"displayOrder\": 3}, \"description\": \">6:42< | 15 lap | 31:59 | 5.00km\", \"endCondition\": {\"conditionTypeId\": 3, \"conditionTypeKey\": \"distance\", \"displayOrder\": 3, \"displayable\": true}, \"endConditionValue\": 333.33, \"preferredEndConditionUnit\": {\"unitId\": 2, \"unitKey\": \"kilometer\", \"factor\": 100000}, \"targetType\": {\"workoutTargetTypeId\": 6, \"workoutTargetTypeKey\": \"pace.zone\", \"displayOrder\": 6}, \"targetValueOne\": 2.3696660003165873, \"targetValueTwo\": 2.617803788276218}, {\"type\": \"ExecutableStepDTO\", \"stepId\": 2698638075, \"stepOrder\": 4, \"stepType\": {\"stepTypeId\": 3, \"stepTypeKey\": \"interval\", \"displayOrder\": 3}, \"description\": \">6:39< | 14 lap | 29:58 | 4.67km\", \"endCondition\": {\"conditionTypeId\": 3, \"conditionTypeKey\": \"distance\", \"displayOrder\": 3, \"displayable\": true}, \"endConditionValue\": 333.33, \"preferredEndConditionUnit\": {\"unitId\": 2, \"unitKey\": \"kilometer\", \"factor\": 100000}, \"targetType\": {\"workoutTargetTypeId\": 6, \"workoutTargetTypeKey\": \"pace.zone\", \"displayOrder\": 6}, \"targetValueOne\": 2.3866325664605568, \"targetValueTwo\": 2.6385252121638123}, {\"type\": \"ExecutableStepDTO\", \"stepId\": 2698638076, \"stepOrder\": 5, \"stepType\": {\"stepTypeId\": 3, \"stepTypeKey\": \"interval\", \"displayOrder\": 3}, \"description\": \">6:35< | 13 lap | 27:56 | 4.33km\", \"endCondition\": {\"conditionTypeId\": 3, \"conditionTypeKey\": \"distance\", \"displayOrder\": 3, \"displayable\": true}, \"endConditionValue\": 333.33, \"preferredEndConditionUnit\": {\"unitId\": 2, \"unitKey\": \"kilometer\", \"factor\": 100000}, \"targetType\": {\"workoutTargetTypeId\": 6, \"workoutTargetTypeKey\": \"pace.zone\", \"displayOrder\": 6}, \"targetValueOne\": 2.403843842457844, \"targetValueTwo\": 2.659577297422657}, {\"type\": \"ExecutableStepDTO\", \"stepId\": 2698638077, \"stepOrder\": 6, \"stepType\": {\"stepTypeId\": 3, \"stepTypeKey\": \"interval\", \"displayOrder\": 3}, \"description\": \">6:32< | 12 lap | 25:53 | 4.00km\", \"endCondition\": {\"conditionTypeId\": 3, \"conditionTypeKey\": \"distance\", \"displayOrder\": 3, \"displayable\": true}, \"endConditionValue\": 333.33, \"preferredEndConditionUnit\": {\"unitId\": 2, \"unitKey\": \"kilometer\", \"factor\": 100000}, \"targetType\": {\"workoutTargetTypeId\": 6, \"workoutTargetTypeKey\": \"pace.zone\", \"displayOrder\": 6}, \"targetValueOne\": 2.421305160963525, \"targetValueTwo\": 2.680968022485815}, {\"type\": \"ExecutableStepDTO\", \"stepId\": 2698638078, \"stepOrder\": 7, \"stepType\": {\"stepTypeId\": 3, \"stepTypeKey\": \"interval\", \"displayOrder\": 3}, \"description\": \">6:30< | 11 lap | 23:49 | 3.67km\", \"endCondition\": {\"conditionTypeId\": 3, \"conditionTypeKey\": \"distance\", \"displayOrder\": 3, \"displayable\": true}, \"endConditionValue\": 333.33, \"preferredEndConditionUnit\": {\"unitId\": 2, \"unitKey\": \"kilometer\", \"factor\": 100000}, \"targetType\": {\"workoutTargetTypeId\": 6, \"workoutTargetTypeKey\": \"pace.zone\", \"displayOrder\": 6}, \"targetValueOne\": 2.4390220107102336, \"targetValueTwo\": 2.702705624546621}, {\"type\": \"ExecutableStepDTO\", \"stepId\": 2698638079, \"stepOrder\": 8, \"stepType\": {\"stepTypeId\": 3, \"stepTypeKey\": \"interval\", \"displayOrder\": 3}, \"description\": \">6:27< | 10 lap | 21:44 | 3.33km\", \"endCondition\": {\"conditionTypeId\": 3, \"conditionTypeKey\": \"distance\", \"displayOrder\": 3, \"displayable\": true}, \"endConditionValue\": 333.33, \"preferredEndConditionUnit\": {\"unitId\": 2, \"unitKey\": \"kilometer\", \"factor\": 100000}, \"targetType\": {\"workoutTargetTypeId\": 6, \"workoutTargetTypeKey\": \"pace.zone\", \"displayOrder\": 6}, \"targetValueOne\": 2.457000042260401, \"targetValueTwo\": 2.724798610134725}, {\"type\": \"ExecutableStepDTO\", \"stepId\": 2698638080, \"stepOrder\": 9, \"stepType\": {\"stepTypeId\": 3, \"stepTypeKey\": \"interval\", \"displayOrder\": 3}, \"description\": \">6:24< | 9 lap | 19:38 | 3.00km\", \"endCondition\": {\"conditionTypeId\": 3, \"conditionTypeKey\": \"distance\", \"displayOrder\": 3, \"displayable\": true}, \"endConditionValue\": 333.33, \"preferredEndConditionUnit\": {\"unitId\": 2, \"unitKey\": \"kilometer\", \"factor\": 100000}, \"targetType\": {\"workoutTargetTypeId\": 6, \"workoutTargetTypeKey\": \"pace.zone\", \"displayOrder\": 6}, \"targetValueOne\": 2.4752450740147784, \"targetValueTwo\": 2.7472557662151273}, {\"type\": \"ExecutableStepDTO\", \"stepId\": 2698638081, \"stepOrder\": 10, \"stepType\": {\"stepTypeId\": 3, \"stepTypeKey\": \"interval\", \"displayOrder\": 3}, \"description\": \">6:20< | 8 lap | 17:31 | 2.67km\", \"endCondition\": {\"conditionTypeId\": 3, \"conditionTypeKey\": \"distance\", \"displayOrder\": 3, \"displayable\": true}, \"endConditionValue\": 333.33, \"preferredEndConditionUnit\": {\"unitId\": 2, \"unitKey\": \"kilometer\", \"factor\": 100000}, \"targetType\": {\"workoutTargetTypeId\": 6, \"workoutTargetTypeKey\": \"pace.zone\", \"displayOrder\": 6}, \"targetValueOne\": 2.493763098490675, \"targetValueTwo\": 2.7700861718406333}, {\"type\": \"ExecutableStepDTO\", \"stepId\": 2698638082, \"stepOrder\": 11, \"stepType\": {\"stepTypeId\": 3, \"stepTypeKey\": \"interval\", \"displayOrder\": 3}, \"description\": \">6:17< | 7 lap | 15:23 | 2.33km\", \"endCondition\": {\"conditionTypeId\": 3, \"conditionTypeKey\": \"distance\", \"displayOrder\": 3, \"displayable\": true}, \"endConditionValue\": 333.33, \"preferredEndConditionUnit\": {\"unitId\": 2, \"unitKey\": \"kilometer\", \"factor\": 100000}, \"targetType\": {\"workoutTargetTypeId\": 6, \"workoutTargetTypeKey\": \"pace.zone\", \"displayOrder\": 6}, \"targetValueOne\": 2.512560288884132, \"targetValueTwo\": 2.7932992103901793}, {\"type\": \"ExecutableStepDTO\", \"stepId\": 2698638083, \"stepOrder\": 12, \"stepType\": {\"stepTypeId\": 3, \"stepTypeKey\": \"interval\", \"displayOrder\": 3}, \"description\": \">6:15< | 6 lap | 13:14 | 2.00km\", \"endCondition\": {\"conditionTypeId\": 3, \"conditionTypeKey\": \"distance\", \"displayOrder\": 3, \"displayable\": true}, \"endConditionValue\": 333.33, \"preferredEndConditionUnit\": {\"unitId\": 2, \"unitKey\": \"kilometer\", \"factor\": 100000}, \"targetType\": {\"workoutTargetTypeId\": 6, \"workoutTargetTypeKey\": \"pace.zone\", \"displayOrder\": 6}, \"targetValueOne\": 2.5316430059311332, \"targetValueTwo\": 2.816904582427698}, {\"type\": \"ExecutableStepDTO\", \"stepId\": 2698638084, \"stepOrder\": 13, \"stepType\": {\"stepTypeId\": 3, \"stepTypeKey\": \"interval\", \"displayOrder\": 3}, \"description\": \">6:12< | 5 lap | 11:04 | 1.67km\", \"endCondition\": {\"conditionTypeId\": 3, \"conditionTypeKey\": \"distance\", \"displayOrder\": 3, \"displayable\": true}, \"endConditionValue\": 333.33, \"preferredEndConditionUnit\": {\"unitId\": 2, \"unitKey\": \"kilometer\", \"factor\": 100000}, \"targetType\": {\"workoutTargetTypeId\": 6, \"workoutTargetTypeKey\": \"pace.zone\", \"displayOrder\": 6}, \"targetValueOne\": 2.5510178050838723, \"targetValueTwo\": 2.8409123192185444}, {\"type\": \"ExecutableStepDTO\", \"stepId\": 2698638085, \"stepOrder\": 14, \"stepType\": {\"stepTypeId\": 3, \"stepTypeKey\": \"interval\", \"displayOrder\": 3}, \"description\": \">6:09< | 4 lap | 08:53 | 1.33km\", \"endCondition\": {\"conditionTypeId\": 3, \"conditionTypeKey\": \"distance\", \"displayOrder\": 3, \"displayable\": true}, \"endConditionValue\": 333.33, \"preferredEndConditionUnit\": {\"unitId\": 2, \"unitKey\": \"kilometer\", \"factor\": 100000}, \"targetType\": {\"workoutTargetTypeId\": 6, \"workoutTargetTypeKey\": \"pace.zone\", \"displayOrder\": 6}, \"targetValueOne\": 2.5706914440190807, \"targetValueTwo\": 2.8653327969430338}, {\"type\": \"ExecutableStepDTO\", \"stepId\": 2698638086, \"stepOrder\": 15, \"stepType\": {\"stepTypeId\": 3, \"stepTypeKey\": \"interval\", \"displayOrder\": 3}, \"description\": \">6:05< | 3 lap | 06:41 | 1.00km\", \"endCondition\": {\"conditionTypeId\": 3, \"conditionTypeKey\": \"distance\", \"displayOrder\": 3, \"displayable\": true}, \"endConditionValue\": 333.33, \"preferredEndConditionUnit\": {\"unitId\": 2, \"unitKey\": \"kilometer\", \"factor\": 100000}, \"targetType\": {\"workoutTargetTypeId\": 6, \"workoutTargetTypeKey\": \"pace.zone\", \"displayOrder\": 6}, \"targetValueOne\": 2.590670890496487, \"targetValueTwo\": 2.8901767516494243}, {\"type\": \"ExecutableStepDTO\", \"stepId\": 2698638087, \"stepOrder\": 16, \"stepType\": {\"stepTypeId\": 3, \"stepTypeKey\": \"interval\", \"displayOrder\": 3}, \"description\": \">6:02< | 2 lap | 04:28 | 0.67km\", \"endCondition\": {\"conditionTypeId\": 3, \"conditionTypeKey\": \"distance\", \"displayOrder\": 3, \"displayable\": true}, \"endConditionValue\": 333.33, \"preferredEndConditionUnit\": {\"unitId\": 2, \"unitKey\": \"kilometer\", \"factor\": 100000}, \"targetType\": {\"workoutTargetTypeId\": 6, \"workoutTargetTypeKey\": \"pace.zone\", \"displayOrder\": 6}, \"targetValueOne\": 2.6109633305866002, \"targetValueTwo\": 2.9154552949915975}, {\"type\": \"ExecutableStepDTO\", \"stepId\": 2698638088, \"stepOrder\": 17, \"stepType\": {\"stepTypeId\": 3, \"stepTypeKey\": \"interval\", \"displayOrder\": 3}, \"description\": \">6:00< | 1 lap | 02:14 | 0.33km\", \"endCondition\": {\"conditionTypeId\": 3, \"conditionTypeKey\": \"distance\", \"displayOrder\": 3, \"displayable\": true}, \"endConditionValue\": 333.33, \"preferredEndConditionUnit\": {\"unitId\": 2, \"unitKey\": \"kilometer\", \"factor\": 100000}, \"targetType\": {\"workoutTargetTypeId\": 6, \"workoutTargetTypeKey\": \"pace.zone\", \"displayOrder\": 6}, \"targetValueOne\": 2.6315761772882342, \"targetValueTwo\": 2.9411799307999185}]}], \"shared\": false}'"
     },
     "execution_count": 221,
     "metadata": {},
     "output_type": "execute_result"
    }
   ],
   "source": [
    "workout = progression(\n",
    "    target_distance = 5400,\n",
    "    split_distance = 333.33,\n",
    "    start_pace_minpkm = 6.75,\n",
    "    end_pace_minpkm = 6,\n",
    "    pace_toleration = 0.33334\n",
    ")\n",
    "\n",
    "\n",
    "json.dumps(workout)"
   ],
   "metadata": {
    "collapsed": false,
    "pycharm": {
     "name": "#%%\n"
    }
   }
  }
 ]
}